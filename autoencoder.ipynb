{
 "cells": [
  {
   "cell_type": "code",
   "execution_count": 2,
   "id": "b5fe7089",
   "metadata": {
    "pycharm": {
     "name": "#%%\n"
    }
   },
   "outputs": [],
   "source": [
    "from helper.neural_net import *\n",
    "from helper.autoencoder_helper import extract_features_encoder\n",
    "from models.autoencoder import Encoder\n",
    "import matplotlib.pyplot as plt\n",
    "from helper.loading import *\n",
    "from helper.metrics import *\n",
    "from helper.image import get_imgs_gt_patches\n",
    "from models.features_extraction import build_gt_from_patches\n",
    "\n",
    "%load_ext autoreload\n",
    "%autoreload 2"
   ]
  },
  {
   "cell_type": "code",
   "execution_count": 22,
   "id": "cf05e84e",
   "metadata": {
    "pycharm": {
     "name": "#%%\n"
    }
   },
   "outputs": [
    {
     "name": "stdout",
     "output_type": "stream",
     "text": [
      "Starting training\n",
      "Epoch 0 | Avg test loss: 0.09426\n",
      "Epoch 1 | Avg test loss: 0.05939\n",
      "Epoch 2 | Avg test loss: 0.04339\n",
      "Epoch 3 | Avg test loss: 0.03448\n",
      "Epoch 4 | Avg test loss: 0.02953\n",
      "Epoch 5 | Avg test loss: 0.02615\n",
      "Epoch 6 | Avg test loss: 0.02361\n",
      "Epoch 7 | Avg test loss: 0.02160\n",
      "Epoch 8 | Avg test loss: 0.02001\n",
      "Epoch 9 | Avg test loss: 0.01874\n",
      "Epoch 10 | Avg test loss: 0.01791\n",
      "Epoch 11 | Avg test loss: 0.01692\n",
      "Epoch 12 | Avg test loss: 0.01623\n",
      "Epoch 13 | Avg test loss: 0.01580\n",
      "Epoch 14 | Avg test loss: 0.01534\n",
      "Epoch 15 | Avg test loss: 0.01483\n",
      "Epoch 16 | Avg test loss: 0.01454\n",
      "Epoch 17 | Avg test loss: 0.01418\n",
      "Epoch 18 | Avg test loss: 0.01396\n",
      "Epoch 19 | Avg test loss: 0.01374\n",
      "Epoch 20 | Avg test loss: 0.01381\n",
      "Epoch 21 | Avg test loss: 0.01376\n",
      "Epoch 22 | Avg test loss: 0.01377\n",
      "Epoch 23 | Avg test loss: 0.01370\n",
      "Epoch 24 | Avg test loss: 0.01371\n",
      "Epoch 25 | Avg test loss: 0.01371\n",
      "Epoch 26 | Avg test loss: 0.01366\n",
      "Epoch 27 | Avg test loss: 0.01365\n",
      "Epoch 28 | Avg test loss: 0.01364\n",
      "Epoch 29 | Avg test loss: 0.01358\n",
      "Epoch 30 | Avg test loss: 0.01361\n",
      "Epoch 31 | Avg test loss: 0.01356\n",
      "Epoch 32 | Avg test loss: 0.01356\n",
      "Epoch 33 | Avg test loss: 0.01357\n",
      "Epoch 34 | Avg test loss: 0.01358\n",
      "Epoch 35 | Avg test loss: 0.01355\n",
      "Epoch 36 | Avg test loss: 0.01354\n",
      "Epoch 37 | Avg test loss: 0.01349\n",
      "Epoch 38 | Avg test loss: 0.01346\n",
      "Epoch 39 | Avg test loss: 0.01341\n",
      "Epoch 40 | Avg test loss: 0.01345\n",
      "Epoch 41 | Avg test loss: 0.01345\n",
      "Epoch 42 | Avg test loss: 0.01346\n",
      "Epoch 43 | Avg test loss: 0.01345\n",
      "Epoch 44 | Avg test loss: 0.01346\n",
      "Epoch 45 | Avg test loss: 0.01347\n",
      "Epoch 46 | Avg test loss: 0.01345\n",
      "Epoch 47 | Avg test loss: 0.01344\n",
      "Epoch 48 | Avg test loss: 0.01344\n",
      "Epoch 49 | Avg test loss: 0.01345\n",
      "Epoch 50 | Avg test loss: 0.01344\n",
      "Epoch 51 | Avg test loss: 0.01346\n",
      "Epoch 52 | Avg test loss: 0.01343\n",
      "Epoch 53 | Avg test loss: 0.01342\n",
      "Epoch 54 | Avg test loss: 0.01344\n",
      "Epoch 55 | Avg test loss: 0.01345\n",
      "Epoch 56 | Avg test loss: 0.01345\n",
      "Epoch 57 | Avg test loss: 0.01343\n",
      "Epoch 58 | Avg test loss: 0.01343\n",
      "Epoch 59 | Avg test loss: 0.01343\n",
      "Epoch 60 | Avg test loss: 0.01343\n",
      "Epoch 61 | Avg test loss: 0.01343\n",
      "Epoch 62 | Avg test loss: 0.01343\n",
      "Epoch 63 | Avg test loss: 0.01343\n",
      "Epoch 64 | Avg test loss: 0.01343\n",
      "Epoch 65 | Avg test loss: 0.01343\n",
      "Epoch 66 | Avg test loss: 0.01343\n",
      "Epoch 67 | Avg test loss: 0.01343\n",
      "Epoch 68 | Avg test loss: 0.01343\n",
      "Epoch 69 | Avg test loss: 0.01343\n",
      "Epoch 70 | Avg test loss: 0.01343\n",
      "Epoch 71 | Avg test loss: 0.01343\n",
      "Epoch 72 | Avg test loss: 0.01343\n",
      "Epoch 73 | Avg test loss: 0.01343\n",
      "Epoch 74 | Avg test loss: 0.01343\n",
      "Epoch 75 | Avg test loss: 0.01343\n",
      "Epoch 76 | Avg test loss: 0.01343\n",
      "Epoch 77 | Avg test loss: 0.01343\n",
      "Epoch 78 | Avg test loss: 0.01343\n",
      "Epoch 79 | Avg test loss: 0.01343\n",
      "Epoch 80 | Avg test loss: 0.01343\n",
      "Epoch 81 | Avg test loss: 0.01343\n",
      "Epoch 82 | Avg test loss: 0.01343\n",
      "Epoch 83 | Avg test loss: 0.01343\n",
      "Epoch 84 | Avg test loss: 0.01343\n",
      "Epoch 85 | Avg test loss: 0.01343\n",
      "Epoch 86 | Avg test loss: 0.01343\n",
      "Epoch 87 | Avg test loss: 0.01343\n",
      "Epoch 88 | Avg test loss: 0.01343\n",
      "Epoch 89 | Avg test loss: 0.01343\n",
      "Epoch 90 | Avg test loss: 0.01343\n",
      "Epoch 91 | Avg test loss: 0.01343\n",
      "Epoch 92 | Avg test loss: 0.01343\n",
      "Epoch 93 | Avg test loss: 0.01343\n",
      "Epoch 94 | Avg test loss: 0.01343\n",
      "Epoch 95 | Avg test loss: 0.01343\n",
      "Epoch 96 | Avg test loss: 0.01343\n",
      "Epoch 97 | Avg test loss: 0.01343\n",
      "Epoch 98 | Avg test loss: 0.01343\n",
      "Epoch 99 | Avg test loss: 0.01343\n",
      "End of training\n"
     ]
    }
   ],
   "source": [
    "# Train the autoencoder and save the weights\n",
    "train_losses, test_losses = run_experiment('convnet', 'bce', 'adam', image_dir, test_dir, num_epochs=100,\n",
    "               learning_rate=1e-5, autoencoder=True, lr_scheduler=True, lr_schedule=(20, 0.1), batch_size=100)"
   ]
  },
  {
   "cell_type": "code",
   "execution_count": 23,
   "id": "36fcb2ca",
   "metadata": {},
   "outputs": [
    {
     "data": {
      "text/plain": [
       "62500"
      ]
     },
     "execution_count": 23,
     "metadata": {},
     "output_type": "execute_result"
    }
   ],
   "source": [
    "len(train_losses)"
   ]
  },
  {
   "cell_type": "code",
   "execution_count": 26,
   "id": "4c75b940",
   "metadata": {},
   "outputs": [
    {
     "data": {
      "image/png": "[encoded data removed]",
      "text/plain": [
       "<Figure size 432x288 with 1 Axes>"
      ]
     },
     "metadata": {
      "needs_background": "light"
     },
     "output_type": "display_data"
    }
   ],
   "source": [
    "plt.plot(train_losses)\n",
    "plt.show()"
   ]
  },
  {
   "cell_type": "code",
   "execution_count": 27,
   "id": "30a5093e",
   "metadata": {},
   "outputs": [
    {
     "data": {
      "image/png": "[encoded data removed]",
      "text/plain": [
       "<Figure size 432x288 with 1 Axes>"
      ]
     },
     "metadata": {
      "needs_background": "light"
     },
     "output_type": "display_data"
    }
   ],
   "source": [
    "plt.plot(test_losses)\n",
    "plt.show()"
   ]
  },
  {
   "cell_type": "code",
   "execution_count": null,
   "id": "1560e83e",
   "metadata": {},
   "outputs": [],
   "source": []
  },
  {
   "cell_type": "code",
   "execution_count": 37,
   "id": "75316401",
   "metadata": {
    "pycharm": {
     "name": "#%%\n"
    }
   },
   "outputs": [
    {
     "name": "stdout",
     "output_type": "stream",
     "text": [
      "Use GPU for features extraction.\n",
      "Starting features extraction...\n",
      "Features saved in output/features/features_encoder_2021-12-04_16-50-07.npy\n"
     ]
    }
   ],
   "source": [
    "# Extract the patches features with the trained autoencoder\n",
    "encoder = Encoder()\n",
    "weights_path = 'encoder_2021-12-04_16-50-07'\n",
    "X = extract_features_encoder(encoder, image_dir, weights_path)"
   ]
  },
  {
   "cell_type": "code",
   "execution_count": 38,
   "id": "53c3f9f2",
   "metadata": {},
   "outputs": [
    {
     "data": {
      "text/plain": [
       "(62500, 16)"
      ]
     },
     "execution_count": 38,
     "metadata": {},
     "output_type": "execute_result"
    }
   ],
   "source": [
    "X.shape"
   ]
  },
  {
   "cell_type": "code",
   "execution_count": 47,
   "id": "6318c39b",
   "metadata": {},
   "outputs": [
    {
     "name": "stdout",
     "output_type": "stream",
     "text": [
      "Loaded 100 images\n",
      "All images have the same size !\n",
      "Image size = 400, 400\n"
     ]
    },
    {
     "ename": "NameError",
     "evalue": "name 'build_gt_from_patches' is not defined",
     "output_type": "error",
     "traceback": [
      "\u001B[0;31m---------------------------------------------------------------------------\u001B[0m",
      "\u001B[0;31mNameError\u001B[0m                                 Traceback (most recent call last)",
      "\u001B[0;32m/tmp/ipykernel_3028/877313706.py\u001B[0m in \u001B[0;36m<module>\u001B[0;34m\u001B[0m\n\u001B[1;32m      3\u001B[0m \u001B[0mpatches\u001B[0m\u001B[0;34m,\u001B[0m \u001B[0mgt_patches\u001B[0m \u001B[0;34m=\u001B[0m \u001B[0mget_imgs_gt_patches\u001B[0m\u001B[0;34m(\u001B[0m\u001B[0mimgs\u001B[0m\u001B[0;34m,\u001B[0m \u001B[0mgt_imgs\u001B[0m\u001B[0;34m)\u001B[0m\u001B[0;34m\u001B[0m\u001B[0;34m\u001B[0m\u001B[0m\n\u001B[1;32m      4\u001B[0m \u001B[0;34m\u001B[0m\u001B[0m\n\u001B[0;32m----> 5\u001B[0;31m \u001B[0my\u001B[0m \u001B[0;34m=\u001B[0m \u001B[0mbuild_gt_from_patches\u001B[0m\u001B[0;34m(\u001B[0m\u001B[0mgt_patches\u001B[0m\u001B[0;34m,\u001B[0m \u001B[0;32mlambda\u001B[0m \u001B[0mgt_patch\u001B[0m\u001B[0;34m:\u001B[0m \u001B[0mvalue_to_class\u001B[0m\u001B[0;34m(\u001B[0m\u001B[0mgt_patch\u001B[0m\u001B[0;34m,\u001B[0m \u001B[0mthreshold\u001B[0m\u001B[0;34m=\u001B[0m\u001B[0;36m0.5\u001B[0m\u001B[0;34m)\u001B[0m\u001B[0;34m)\u001B[0m\u001B[0;34m\u001B[0m\u001B[0;34m\u001B[0m\u001B[0m\n\u001B[0m\u001B[1;32m      6\u001B[0m \u001B[0;34m\u001B[0m\u001B[0m\n\u001B[1;32m      7\u001B[0m \u001B[0mX_train\u001B[0m\u001B[0;34m,\u001B[0m \u001B[0my_train\u001B[0m\u001B[0;34m,\u001B[0m \u001B[0mX_test\u001B[0m\u001B[0;34m,\u001B[0m \u001B[0my_test\u001B[0m \u001B[0;34m=\u001B[0m \u001B[0msplit_data\u001B[0m\u001B[0;34m(\u001B[0m\u001B[0mX\u001B[0m\u001B[0;34m,\u001B[0m \u001B[0my\u001B[0m\u001B[0;34m,\u001B[0m \u001B[0mratio\u001B[0m\u001B[0;34m=\u001B[0m\u001B[0;36m0.8\u001B[0m\u001B[0;34m)\u001B[0m\u001B[0;34m\u001B[0m\u001B[0;34m\u001B[0m\u001B[0m\n",
      "\u001B[0;31mNameError\u001B[0m: name 'build_gt_from_patches' is not defined"
     ]
    }
   ],
   "source": [
    "# Load images\n",
    "imgs, gt_imgs = load_images_and_groundtruth(image_dir, gt_dir)\n",
    "patches, gt_patches = get_imgs_gt_patches(imgs, gt_imgs)\n",
    "\n",
    "y = build_gt_from_patches(gt_patches, lambda gt_patch: value_to_class(gt_patch, threshold=0.5))\n",
    "\n",
    "X_train, y_train, X_test, y_test = split_data(X, y, ratio=0.8)"
   ]
  },
  {
   "cell_type": "code",
   "execution_count": null,
   "id": "ff76fa9c",
   "metadata": {},
   "outputs": [],
   "source": []
  },
  {
   "cell_type": "code",
   "execution_count": null,
   "id": "4656a1f2",
   "metadata": {},
   "outputs": [],
   "source": [
    "_, _, _, _ = compute_scores(y_true, y_pred)"
   ]
  }
 ],
 "metadata": {
  "kernelspec": {
   "display_name": "Python 3 (ipykernel)",
   "language": "python",
   "name": "python3"
  },
  "language_info": {
   "codemirror_mode": {
    "name": "ipython",
    "version": 3
   },
   "file_extension": ".py",
   "mimetype": "text/x-python",
   "name": "python",
   "nbconvert_exporter": "python",
   "pygments_lexer": "ipython3",
   "version": "3.9.7"
  }
 },
 "nbformat": 4,
 "nbformat_minor": 5
}