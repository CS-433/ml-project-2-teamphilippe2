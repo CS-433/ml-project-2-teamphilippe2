{
 "cells": [
  {
   "cell_type": "code",
<<<<<<< HEAD
   "execution_count": 19,
=======
   "execution_count": 8,
>>>>>>> bc819aa1f00ef7e3ce2caea653dc80bae9f7abb0
   "id": "b5fe7089",
   "metadata": {
    "pycharm": {
     "name": "#%%\n"
    }
   },
   "outputs": [
    {
     "name": "stdout",
     "output_type": "stream",
     "text": [
      "The autoreload extension is already loaded. To reload it, use:\n",
      "  %reload_ext autoreload\n"
     ]
    }
   ],
   "source": [
    "from helper.neural_net import *\n",
    "from helper.autoencoder_helper import extract_features_encoder\n",
    "from models.autoencoder import Encoder, Decoder\n",
    "import matplotlib.pyplot as plt\n",
    "from helper.loading import *\n",
    "from helper.metrics import *\n",
    "from helper.image import get_imgs_gt_patches\n",
<<<<<<< HEAD
    "from helper.visualisations import *\n",
    "from models.features_extraction import *\n",
    "from sklearn.svm import SVC\n",
    "from sklearn.linear_model import LogisticRegression\n",
=======
    "from models.features_extraction import build_gt_from_patches\n",
>>>>>>> bc819aa1f00ef7e3ce2caea653dc80bae9f7abb0
    "\n",
    "%load_ext autoreload\n",
    "%autoreload 2"
   ]
  },
  {
   "cell_type": "code",
   "execution_count": 41,
   "outputs": [
    {
     "name": "stdout",
     "output_type": "stream",
     "text": [
      "torch.Size([1, 128, 4, 4])\n",
      "torch.Size([1, 128, 6, 6])\n",
      "torch.Size([1, 3, 16, 16])\n"
     ]
    }
   ],
   "source": [
    "ds = OriginalTrainingRoadPatches(image_dir)\n",
    "dataset_train = torch.utils.data.DataLoader(ds,\n",
    "                                            batch_size=1,\n",
    "                                            shuffle=True\n",
    "                                            )\n",
    "\n",
    "encoder = Encoder()\n",
    "decoder = Decoder()\n",
    "\n",
    "for batch_x, batch_y in dataset_train:\n",
    "    x = encoder(batch_x)\n",
    "    y = decoder(x)\n",
    "\n",
    "    break"
   ],
   "metadata": {
    "collapsed": false,
    "pycharm": {
     "name": "#%%\n"
    }
   }
  },
  {
   "cell_type": "code",
   "execution_count": null,
   "id": "cf05e84e",
   "metadata": {
    "pycharm": {
     "name": "#%%\n",
     "is_executing": true
    }
   },
   "outputs": [
    {
     "name": "stdout",
     "output_type": "stream",
     "text": [
      "Things will go much quicker with a GPU\n",
      "Starting training\n"
     ]
    }
   ],
   "source": [
    "# Train the autoencoder and save the weights\n",
    "train_losses, test_losses = run_experiment('autoencoder', 'mse', 'adam', image_dir, test_dir, num_epochs=1,\n",
    "               learning_rate=1e-5, autoencoder=True, lr_scheduler=True, lr_schedule=(20, 0.1), batch_size=100)"
   ]
  },
  {
   "cell_type": "code",
   "execution_count": 23,
   "id": "36fcb2ca",
   "metadata": {},
   "outputs": [
    {
     "data": {
      "text/plain": [
       "62500"
      ]
     },
     "execution_count": 23,
     "metadata": {},
     "output_type": "execute_result"
    }
   ],
   "source": [
    "len(train_losses)"
   ]
  },
  {
   "cell_type": "code",
   "execution_count": 26,
   "id": "4c75b940",
   "metadata": {},
   "outputs": [
    {
     "data": {
      "image/png": "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\n",
      "text/plain": [
       "<Figure size 432x288 with 1 Axes>"
      ]
     },
     "metadata": {
      "needs_background": "light"
     },
     "output_type": "display_data"
    }
   ],
   "source": [
    "plt.plot(train_losses)\n",
    "plt.show()"
   ]
  },
  {
   "cell_type": "code",
   "execution_count": 27,
   "id": "30a5093e",
   "metadata": {},
   "outputs": [
    {
     "data": {
      "image/png": "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\n",
      "text/plain": [
       "<Figure size 432x288 with 1 Axes>"
      ]
     },
     "metadata": {
      "needs_background": "light"
     },
     "output_type": "display_data"
    }
   ],
   "source": [
    "plt.plot(test_losses)\n",
    "plt.show()"
   ]
  },
  {
   "cell_type": "code",
   "execution_count": 2,
   "id": "75316401",
   "metadata": {
    "pycharm": {
     "name": "#%%\n"
    }
   },
   "outputs": [
    {
     "name": "stdout",
     "output_type": "stream",
     "text": [
      "Use GPU for features extraction.\n",
      "Starting features extraction...\n",
      "Features saved in output/features/features_encoder_2021-12-04_16-50-07.npy\n"
     ]
    }
   ],
   "source": [
    "# Extract the patches features with the trained autoencoder\n",
    "encoder = Encoder()\n",
    "weights_path = 'encoder_2021-12-04_16-50-07'\n",
    "X = extract_features_encoder(encoder, image_dir, weights_path)"
   ]
  },
  {
   "cell_type": "code",
   "execution_count": 3,
   "id": "53c3f9f2",
   "metadata": {},
   "outputs": [
    {
     "data": {
      "text/plain": [
       "(62500, 16)"
      ]
     },
     "execution_count": 3,
     "metadata": {},
     "output_type": "execute_result"
    }
   ],
   "source": [
    "X.shape"
   ]
  },
  {
   "cell_type": "code",
   "execution_count": 5,
   "id": "6318c39b",
   "metadata": {},
   "outputs": [
    {
     "name": "stdout",
     "output_type": "stream",
     "text": [
      "Loaded 100 images\n",
      "All images have the same size !\n",
      "Image size = 400, 400\n"
     ]
<<<<<<< HEAD
=======
    },
    {
     "ename": "NameError",
     "evalue": "name 'build_gt_from_patches' is not defined",
     "output_type": "error",
     "traceback": [
      "\u001B[0;31m---------------------------------------------------------------------------\u001B[0m",
      "\u001B[0;31mNameError\u001B[0m                                 Traceback (most recent call last)",
      "\u001B[0;32m/tmp/ipykernel_3028/877313706.py\u001B[0m in \u001B[0;36m<module>\u001B[0;34m\u001B[0m\n\u001B[1;32m      3\u001B[0m \u001B[0mpatches\u001B[0m\u001B[0;34m,\u001B[0m \u001B[0mgt_patches\u001B[0m \u001B[0;34m=\u001B[0m \u001B[0mget_imgs_gt_patches\u001B[0m\u001B[0;34m(\u001B[0m\u001B[0mimgs\u001B[0m\u001B[0;34m,\u001B[0m \u001B[0mgt_imgs\u001B[0m\u001B[0;34m)\u001B[0m\u001B[0;34m\u001B[0m\u001B[0;34m\u001B[0m\u001B[0m\n\u001B[1;32m      4\u001B[0m \u001B[0;34m\u001B[0m\u001B[0m\n\u001B[0;32m----> 5\u001B[0;31m \u001B[0my\u001B[0m \u001B[0;34m=\u001B[0m \u001B[0mbuild_gt_from_patches\u001B[0m\u001B[0;34m(\u001B[0m\u001B[0mgt_patches\u001B[0m\u001B[0;34m,\u001B[0m \u001B[0;32mlambda\u001B[0m \u001B[0mgt_patch\u001B[0m\u001B[0;34m:\u001B[0m \u001B[0mvalue_to_class\u001B[0m\u001B[0;34m(\u001B[0m\u001B[0mgt_patch\u001B[0m\u001B[0;34m,\u001B[0m \u001B[0mthreshold\u001B[0m\u001B[0;34m=\u001B[0m\u001B[0;36m0.5\u001B[0m\u001B[0;34m)\u001B[0m\u001B[0;34m)\u001B[0m\u001B[0;34m\u001B[0m\u001B[0;34m\u001B[0m\u001B[0m\n\u001B[0m\u001B[1;32m      6\u001B[0m \u001B[0;34m\u001B[0m\u001B[0m\n\u001B[1;32m      7\u001B[0m \u001B[0mX_train\u001B[0m\u001B[0;34m,\u001B[0m \u001B[0my_train\u001B[0m\u001B[0;34m,\u001B[0m \u001B[0mX_test\u001B[0m\u001B[0;34m,\u001B[0m \u001B[0my_test\u001B[0m \u001B[0;34m=\u001B[0m \u001B[0msplit_data\u001B[0m\u001B[0;34m(\u001B[0m\u001B[0mX\u001B[0m\u001B[0;34m,\u001B[0m \u001B[0my\u001B[0m\u001B[0;34m,\u001B[0m \u001B[0mratio\u001B[0m\u001B[0;34m=\u001B[0m\u001B[0;36m0.8\u001B[0m\u001B[0;34m)\u001B[0m\u001B[0;34m\u001B[0m\u001B[0;34m\u001B[0m\u001B[0m\n",
      "\u001B[0;31mNameError\u001B[0m: name 'build_gt_from_patches' is not defined"
     ]
>>>>>>> bc819aa1f00ef7e3ce2caea653dc80bae9f7abb0
    }
   ],
   "source": [
    "# Load images\n",
    "imgs, gt_imgs = load_images_and_groundtruth(image_dir, gt_dir)\n",
    "patches, gt_patches = get_imgs_gt_patches(imgs, gt_imgs)\n",
    "\n",
    "y = build_gt_from_patches(gt_patches, lambda gt_patch: value_to_class(gt_patch, threshold=0.5))\n",
    "\n",
    "X_train, y_train, X_test, y_test = split_data(X, y, ratio=0.8)"
   ]
  },
  {
   "cell_type": "code",
   "execution_count": 9,
   "id": "ff76fa9c",
   "metadata": {},
   "outputs": [
    {
     "data": {
      "text/plain": [
       "((50000, 16), (12500, 16))"
      ]
     },
     "execution_count": 9,
     "metadata": {},
     "output_type": "execute_result"
    }
   ],
   "source": [
    "X_train.shape, X_test.shape"
   ]
  },
  {
   "cell_type": "code",
   "execution_count": 24,
   "id": "3417b425",
   "metadata": {},
   "outputs": [
    {
     "ename": "IndexError",
     "evalue": "index 3 is out of bounds for axis 0 with size 3",
     "output_type": "error",
     "traceback": [
      "\u001b[0;31m---------------------------------------------------------------------------\u001b[0m",
      "\u001b[0;31mIndexError\u001b[0m                                Traceback (most recent call last)",
      "\u001b[0;32m/tmp/ipykernel_4521/2274371520.py\u001b[0m in \u001b[0;36m<module>\u001b[0;34m\u001b[0m\n\u001b[0;32m----> 1\u001b[0;31m \u001b[0mplot_features_distributions\u001b[0m\u001b[0;34m(\u001b[0m\u001b[0mX_train\u001b[0m\u001b[0;34m,\u001b[0m \u001b[0msave_img\u001b[0m\u001b[0;34m=\u001b[0m\u001b[0;32mTrue\u001b[0m\u001b[0;34m)\u001b[0m\u001b[0;34m\u001b[0m\u001b[0;34m\u001b[0m\u001b[0m\n\u001b[0m",
      "\u001b[0;32m~/MA1/ml/github/ml-project-2-teamphilippe2/helper/visualisations.py\u001b[0m in \u001b[0;36mplot_features_distributions\u001b[0;34m(X, save_img, path)\u001b[0m\n\u001b[1;32m     73\u001b[0m         \u001b[0mrow\u001b[0m \u001b[0;34m=\u001b[0m \u001b[0mi\u001b[0m \u001b[0;34m//\u001b[0m \u001b[0;36m3\u001b[0m\u001b[0;34m\u001b[0m\u001b[0;34m\u001b[0m\u001b[0m\n\u001b[1;32m     74\u001b[0m         \u001b[0mcol\u001b[0m \u001b[0;34m=\u001b[0m \u001b[0mi\u001b[0m \u001b[0;34m%\u001b[0m \u001b[0;36m3\u001b[0m\u001b[0;34m\u001b[0m\u001b[0;34m\u001b[0m\u001b[0m\n\u001b[0;32m---> 75\u001b[0;31m         \u001b[0maxs\u001b[0m\u001b[0;34m[\u001b[0m\u001b[0mrow\u001b[0m\u001b[0;34m,\u001b[0m \u001b[0mcol\u001b[0m\u001b[0;34m]\u001b[0m\u001b[0;34m.\u001b[0m\u001b[0mhist\u001b[0m\u001b[0;34m(\u001b[0m\u001b[0mX\u001b[0m\u001b[0;34m[\u001b[0m\u001b[0;34m:\u001b[0m\u001b[0;34m,\u001b[0m \u001b[0mi\u001b[0m\u001b[0;34m]\u001b[0m\u001b[0;34m,\u001b[0m \u001b[0mbins\u001b[0m\u001b[0;34m=\u001b[0m\u001b[0;36m100\u001b[0m\u001b[0;34m)\u001b[0m\u001b[0;34m\u001b[0m\u001b[0;34m\u001b[0m\u001b[0m\n\u001b[0m\u001b[1;32m     76\u001b[0m         \u001b[0maxs\u001b[0m\u001b[0;34m[\u001b[0m\u001b[0mrow\u001b[0m\u001b[0;34m,\u001b[0m \u001b[0mcol\u001b[0m\u001b[0;34m]\u001b[0m\u001b[0;34m.\u001b[0m\u001b[0mset_title\u001b[0m\u001b[0;34m(\u001b[0m\u001b[0;34mf'Histogram of {labels_features[row]} ({labels_channels[col]})'\u001b[0m\u001b[0;34m)\u001b[0m\u001b[0;34m\u001b[0m\u001b[0;34m\u001b[0m\u001b[0m\n\u001b[1;32m     77\u001b[0m         \u001b[0maxs\u001b[0m\u001b[0;34m[\u001b[0m\u001b[0mrow\u001b[0m\u001b[0;34m,\u001b[0m \u001b[0mcol\u001b[0m\u001b[0;34m]\u001b[0m\u001b[0;34m.\u001b[0m\u001b[0mset_ylabel\u001b[0m\u001b[0;34m(\u001b[0m\u001b[0;34m'Count'\u001b[0m\u001b[0;34m)\u001b[0m\u001b[0;34m\u001b[0m\u001b[0;34m\u001b[0m\u001b[0m\n",
      "\u001b[0;31mIndexError\u001b[0m: index 3 is out of bounds for axis 0 with size 3"
     ]
    },
    {
     "data": {
      "image/png": "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\n",
      "text/plain": [
       "<Figure size 720x720 with 9 Axes>"
      ]
     },
     "metadata": {
      "needs_background": "light"
     },
     "output_type": "display_data"
    }
   ],
   "source": [
    "plot_features_distributions(X_train, save_img=True)"
   ]
  },
  {
   "cell_type": "code",
   "execution_count": 23,
   "id": "b7ad03b6",
   "metadata": {},
   "outputs": [],
   "source": [
    "# Standardize the features\n",
    "X_train, means, stds = standardize_features(X_train)\n",
    "\n",
    "# Standardize the test data with the same statistics\n",
    "X_test, _, _ = standardize_features(X_test, means=means, stds=stds)"
   ]
  },
  {
   "cell_type": "code",
   "execution_count": 25,
   "id": "fc0561bb",
   "metadata": {},
   "outputs": [],
   "source": [
    "log_reg = LogisticRegression(class_weight='balanced')"
   ]
  },
  {
   "cell_type": "code",
   "execution_count": 26,
   "id": "08ff1af1",
   "metadata": {},
   "outputs": [
    {
     "name": "stderr",
     "output_type": "stream",
     "text": [
      "/home/cpittet/anaconda3/lib/python3.9/site-packages/sklearn/linear_model/_logistic.py:763: ConvergenceWarning: lbfgs failed to converge (status=1):\n",
      "STOP: TOTAL NO. of ITERATIONS REACHED LIMIT.\n",
      "\n",
      "Increase the number of iterations (max_iter) or scale the data as shown in:\n",
      "    https://scikit-learn.org/stable/modules/preprocessing.html\n",
      "Please also refer to the documentation for alternative solver options:\n",
      "    https://scikit-learn.org/stable/modules/linear_model.html#logistic-regression\n",
      "  n_iter_i = _check_optimize_result(\n"
     ]
    },
    {
     "data": {
      "text/plain": [
       "LogisticRegression(class_weight='balanced')"
      ]
     },
     "execution_count": 26,
     "metadata": {},
     "output_type": "execute_result"
    }
   ],
   "source": [
    "log_reg.fit(X_train, y_train)"
   ]
  },
  {
   "cell_type": "code",
   "execution_count": null,
   "id": "a8f7f114",
   "metadata": {},
   "outputs": [],
   "source": []
  },
  {
   "cell_type": "code",
   "execution_count": 27,
   "id": "4d7f8f06",
   "metadata": {},
   "outputs": [],
   "source": [
    "svm_rbf = SVC(class_weight='balanced', kernel='rbf', cache_size=7000)"
   ]
  },
  {
   "cell_type": "code",
   "execution_count": 28,
   "id": "8e29a2ed",
   "metadata": {},
   "outputs": [
    {
     "data": {
      "text/plain": [
       "SVC(cache_size=7000, class_weight='balanced')"
      ]
     },
     "execution_count": 28,
     "metadata": {},
     "output_type": "execute_result"
    }
   ],
   "source": [
    "svm_rbf.fit(X_train, y_train)"
   ]
  },
  {
   "cell_type": "code",
   "execution_count": 32,
   "id": "d2a62e06",
   "metadata": {},
   "outputs": [],
   "source": [
    "y_pred = svm_rbf.predict(X_test)"
   ]
  },
  {
   "cell_type": "code",
   "execution_count": 33,
   "id": "4656a1f2",
   "metadata": {},
   "outputs": [
    {
     "name": "stdout",
     "output_type": "stream",
     "text": [
      "Performance on the local test set\n",
      "\tF1-score : 0.4615\n",
      "\tRecall : 0.7428\n",
      "\tPrecision : 0.3348\n",
      "\tAccuracy : 0.6630\n"
     ]
    }
   ],
   "source": [
    "_, _, _, _ = compute_scores(y_test, y_pred)"
   ]
  },
  {
   "cell_type": "code",
   "execution_count": null,
   "id": "eb2b4653",
   "metadata": {},
   "outputs": [],
   "source": [
    "from sklearn.ensemble import GradientBoostingClassifier\n",
    "\n",
    "# Use many weak learners as Gradient boosting is\n",
    "# rather robust to overfitting\n",
    "# Use trees with a depth of at most 5\n",
    "gbc = GradientBoostingClassifier(n_estimators=100, max_depth=5)\n",
    "\n",
    "gbc.fit(X_train, y_train)"
   ]
  }
 ],
 "metadata": {
  "kernelspec": {
   "display_name": "Python 3 (ipykernel)",
   "language": "python",
   "name": "python3"
  },
  "language_info": {
   "codemirror_mode": {
    "name": "ipython",
    "version": 3
   },
   "file_extension": ".py",
   "mimetype": "text/x-python",
   "name": "python",
   "nbconvert_exporter": "python",
   "pygments_lexer": "ipython3",
   "version": "3.9.7"
  }
 },
 "nbformat": 4,
 "nbformat_minor": 5
}