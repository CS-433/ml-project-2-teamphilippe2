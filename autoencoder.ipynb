{
 "cells": [
  {
   "cell_type": "code",
   "execution_count": 8,
   "id": "b5fe7089",
   "metadata": {
    "pycharm": {
     "name": "#%%\n"
    }
   },
   "outputs": [
    {
     "name": "stdout",
     "output_type": "stream",
     "text": [
      "The autoreload extension is already loaded. To reload it, use:\n",
      "  %reload_ext autoreload\n"
     ]
    }
   ],
   "source": [
    "from helper.neural_net import *\n",
    "from helper.autoencoder_helper import extract_features_encoder\n",
    "from models.autoencoder import Encoder, Decoder\n",
    "import matplotlib.pyplot as plt\n",
    "from helper.loading import *\n",
    "from helper.metrics import *\n",
    "from helper.image import get_imgs_gt_patches\n",
    "from helper.visualisations import *\n",
    "from models.features_extraction import *\n",
    "from helper.const import *\n",
    "from sklearn.svm import SVC\n",
    "from sklearn.linear_model import LogisticRegression\n",
    "\n",
    "%load_ext autoreload\n",
    "%autoreload 2"
   ]
  },
  {
   "cell_type": "code",
   "execution_count": 41,
   "id": "5e9faff4",
   "metadata": {
    "pycharm": {
     "name": "#%%\n"
    }
   },
   "outputs": [
    {
     "name": "stdout",
     "output_type": "stream",
     "text": [
      "torch.Size([1, 128, 4, 4])\n",
      "torch.Size([1, 128, 6, 6])\n",
      "torch.Size([1, 3, 16, 16])\n"
     ]
    }
   ],
   "source": [
    "ds = OriginalTrainingRoadPatches(image_dir)\n",
    "dataset_train = torch.utils.data.DataLoader(ds,\n",
    "                                            batch_size=1,\n",
    "                                            shuffle=True\n",
    "                                            )\n",
    "\n",
    "encoder = Encoder()\n",
    "decoder = Decoder()\n",
    "\n",
    "for batch_x, batch_y in dataset_train:\n",
    "    x = encoder(batch_x)\n",
    "    y = decoder(x)\n",
    "\n",
    "    break"
   ]
  },
  {
   "cell_type": "code",
   "execution_count": 7,
   "id": "cf05e84e",
   "metadata": {
    "pycharm": {
     "is_executing": true,
     "name": "#%%\n"
    }
   },
   "outputs": [
    {
     "name": "stdout",
     "output_type": "stream",
     "text": [
      "Starting training\n",
      "Epoch 0 | Avg test loss: 0.05736\n",
      "Epoch 1 | Avg test loss: 0.03732\n",
      "Epoch 2 | Avg test loss: 0.02773\n",
      "Epoch 3 | Avg test loss: 0.02161\n",
      "Epoch 4 | Avg test loss: 0.01974\n",
      "Epoch 5 | Avg test loss: 0.01840\n",
      "Epoch 6 | Avg test loss: 0.01748\n",
      "Epoch 7 | Avg test loss: 0.01699\n",
      "Epoch 8 | Avg test loss: 0.01650\n",
      "Epoch 9 | Avg test loss: 0.01607\n",
      "Epoch 10 | Avg test loss: 0.01593\n",
      "Epoch 11 | Avg test loss: 0.01545\n",
      "Epoch 12 | Avg test loss: 0.01538\n",
      "Epoch 13 | Avg test loss: 0.01505\n",
      "Epoch 14 | Avg test loss: 0.01472\n",
      "Epoch 15 | Avg test loss: 0.01407\n",
      "Epoch 16 | Avg test loss: 0.01388\n",
      "Epoch 17 | Avg test loss: 0.01337\n",
      "Epoch 18 | Avg test loss: 0.01311\n",
      "Epoch 19 | Avg test loss: 0.01302\n",
      "Epoch 20 | Avg test loss: 0.01305\n",
      "Epoch 21 | Avg test loss: 0.01306\n",
      "Epoch 22 | Avg test loss: 0.01304\n",
      "Epoch 23 | Avg test loss: 0.01302\n",
      "Epoch 24 | Avg test loss: 0.01302\n",
      "Epoch 25 | Avg test loss: 0.01294\n",
      "Epoch 26 | Avg test loss: 0.01288\n",
      "Epoch 27 | Avg test loss: 0.01294\n",
      "Epoch 28 | Avg test loss: 0.01286\n",
      "Epoch 29 | Avg test loss: 0.01286\n",
      "Epoch 30 | Avg test loss: 0.01291\n",
      "Epoch 31 | Avg test loss: 0.01292\n",
      "Epoch 32 | Avg test loss: 0.01280\n",
      "Epoch 33 | Avg test loss: 0.01281\n",
      "Epoch 34 | Avg test loss: 0.01274\n",
      "Epoch 35 | Avg test loss: 0.01277\n",
      "Epoch 36 | Avg test loss: 0.01270\n",
      "Epoch 37 | Avg test loss: 0.01279\n",
      "Epoch 38 | Avg test loss: 0.01270\n",
      "Epoch 39 | Avg test loss: 0.01271\n",
      "Epoch 40 | Avg test loss: 0.01271\n",
      "Epoch 41 | Avg test loss: 0.01270\n",
      "Epoch 42 | Avg test loss: 0.01271\n",
      "Epoch 43 | Avg test loss: 0.01273\n",
      "Epoch 44 | Avg test loss: 0.01270\n",
      "Epoch 45 | Avg test loss: 0.01268\n",
      "Epoch 46 | Avg test loss: 0.01267\n",
      "Epoch 47 | Avg test loss: 0.01268\n",
      "Epoch 48 | Avg test loss: 0.01263\n",
      "Epoch 49 | Avg test loss: 0.01269\n",
      "Epoch 50 | Avg test loss: 0.01266\n",
      "Epoch 51 | Avg test loss: 0.01266\n",
      "Epoch 52 | Avg test loss: 0.01266\n",
      "Epoch 53 | Avg test loss: 0.01266\n",
      "Epoch 54 | Avg test loss: 0.01267\n",
      "Epoch 55 | Avg test loss: 0.01268\n",
      "Epoch 56 | Avg test loss: 0.01267\n",
      "Epoch 57 | Avg test loss: 0.01263\n",
      "Epoch 58 | Avg test loss: 0.01266\n",
      "Epoch 59 | Avg test loss: 0.01268\n",
      "Epoch 60 | Avg test loss: 0.01266\n",
      "Epoch 61 | Avg test loss: 0.01266\n",
      "Epoch 62 | Avg test loss: 0.01266\n",
      "Epoch 63 | Avg test loss: 0.01266\n",
      "Epoch 64 | Avg test loss: 0.01266\n",
      "Epoch 65 | Avg test loss: 0.01266\n",
      "Epoch 66 | Avg test loss: 0.01265\n",
      "Epoch 67 | Avg test loss: 0.01265\n",
      "Epoch 68 | Avg test loss: 0.01265\n",
      "Epoch 69 | Avg test loss: 0.01266\n",
      "Epoch 70 | Avg test loss: 0.01265\n",
      "Epoch 71 | Avg test loss: 0.01265\n",
      "Epoch 72 | Avg test loss: 0.01265\n",
      "Epoch 73 | Avg test loss: 0.01266\n",
      "Epoch 74 | Avg test loss: 0.01265\n",
      "Epoch 75 | Avg test loss: 0.01265\n",
      "Epoch 76 | Avg test loss: 0.01267\n",
      "Epoch 77 | Avg test loss: 0.01266\n",
      "Epoch 78 | Avg test loss: 0.01266\n",
      "Epoch 79 | Avg test loss: 0.01265\n",
      "Epoch 80 | Avg test loss: 0.01265\n",
      "Epoch 81 | Avg test loss: 0.01265\n",
      "Epoch 82 | Avg test loss: 0.01265\n",
      "Epoch 83 | Avg test loss: 0.01265\n",
      "Epoch 84 | Avg test loss: 0.01265\n",
      "Epoch 85 | Avg test loss: 0.01265\n",
      "Epoch 86 | Avg test loss: 0.01265\n",
      "Epoch 87 | Avg test loss: 0.01265\n",
      "Epoch 88 | Avg test loss: 0.01265\n",
      "Epoch 89 | Avg test loss: 0.01265\n",
      "Epoch 90 | Avg test loss: 0.01265\n",
      "Epoch 91 | Avg test loss: 0.01265\n",
      "Epoch 92 | Avg test loss: 0.01265\n",
      "Epoch 93 | Avg test loss: 0.01265\n",
      "Epoch 94 | Avg test loss: 0.01265\n",
      "Epoch 95 | Avg test loss: 0.01265\n",
      "Epoch 96 | Avg test loss: 0.01265\n",
      "Epoch 97 | Avg test loss: 0.01265\n",
      "Epoch 98 | Avg test loss: 0.01265\n",
      "Epoch 99 | Avg test loss: 0.01265\n",
      "End of training\n"
     ]
    }
   ],
   "source": [
    "# Train the autoencoder and save the weights\n",
    "train_losses, test_losses = run_experiment('autoencoder', 'mse', 'adam', image_dir, test_dir, num_epochs=100,\n",
    "               learning_rate=1e-5, autoencoder=True, lr_scheduler=True, lr_schedule=(20, 0.1), batch_size=100)"
   ]
  },
  {
   "cell_type": "code",
   "execution_count": 9,
   "id": "a25dc354",
   "metadata": {},
   "outputs": [
    {
     "data": {
      "text/plain": [
       "760559"
      ]
     },
     "execution_count": 9,
     "metadata": {},
     "output_type": "execute_result"
    }
   ],
   "source": [
    "sum(p.numel() for p in AutoEncoder().parameters() if p.requires_grad)"
   ]
  },
  {
   "cell_type": "code",
   "execution_count": 10,
   "id": "36fcb2ca",
   "metadata": {},
   "outputs": [
    {
     "data": {
      "text/plain": [
       "62500"
      ]
     },
     "execution_count": 10,
     "metadata": {},
     "output_type": "execute_result"
    }
   ],
   "source": [
    "len(train_losses)"
   ]
  },
  {
   "cell_type": "code",
   "execution_count": 11,
   "id": "4c75b940",
   "metadata": {},
   "outputs": [
    {
     "data": {
      "image/png": "[encoded data removed]",
      "text/plain": [
       "<Figure size 432x288 with 1 Axes>"
      ]
     },
     "metadata": {
      "needs_background": "light"
     },
     "output_type": "display_data"
    }
   ],
   "source": [
    "plt.plot(train_losses)\n",
    "plt.show()"
   ]
  },
  {
   "cell_type": "code",
   "execution_count": 12,
   "id": "30a5093e",
   "metadata": {},
   "outputs": [
    {
     "data": {
      "image/png": "[encoded data removed]",
      "text/plain": [
       "<Figure size 432x288 with 1 Axes>"
      ]
     },
     "metadata": {
      "needs_background": "light"
     },
     "output_type": "display_data"
    }
   ],
   "source": [
    "plt.plot(test_losses)\n",
    "plt.show()"
   ]
  },
  {
   "cell_type": "markdown",
   "id": "64d40588",
   "metadata": {},
   "source": [
    "## Compare the true and reconstructed images"
   ]
  },
  {
   "cell_type": "code",
   "execution_count": 15,
   "id": "f957aaae",
   "metadata": {},
   "outputs": [
    {
     "data": {
      "text/plain": [
       "AutoEncoder(\n",
       "  (encoder): Encoder(\n",
       "    (conv1): Conv2d(3, 32, kernel_size=(5, 5), stride=(1, 1), padding=(2, 2))\n",
       "    (conv2): Conv2d(32, 64, kernel_size=(3, 3), stride=(1, 1))\n",
       "    (conv3): Conv2d(64, 128, kernel_size=(3, 3), stride=(1, 1))\n",
       "    (conv4): Conv2d(128, 128, kernel_size=(3, 3), stride=(1, 1))\n",
       "    (conv5): Conv2d(128, 128, kernel_size=(3, 3), stride=(1, 1))\n",
       "    (maxpool): MaxPool2d(kernel_size=2, stride=2, padding=0, dilation=1, ceil_mode=False)\n",
       "    (fc): Linear(in_features=8192, out_features=12, bias=True)\n",
       "  )\n",
       "  (decoder): Decoder(\n",
       "    (fc): Linear(in_features=12, out_features=2048, bias=True)\n",
       "    (deconv1): ConvTranspose2d(128, 128, kernel_size=(3, 3), stride=(1, 1))\n",
       "    (deconv2): ConvTranspose2d(128, 64, kernel_size=(3, 3), stride=(1, 1))\n",
       "    (deconv3): ConvTranspose2d(64, 32, kernel_size=(3, 3), stride=(1, 1))\n",
       "    (deconv4): ConvTranspose2d(32, 16, kernel_size=(3, 3), stride=(1, 1))\n",
       "    (deconv5): ConvTranspose2d(16, 3, kernel_size=(5, 5), stride=(1, 1))\n",
       "  )\n",
       ")"
      ]
     },
     "execution_count": 15,
     "metadata": {},
     "output_type": "execute_result"
    }
   ],
   "source": [
    "encoder_path = 'encoder_2021-12-07_16-53-36'\n",
    "decoder_path = 'decoder_2021-12-07_16-53-36'\n",
    "\n",
    "encoder = Encoder()\n",
    "load_model_weights(encoder, weights_folder + \"autoencoder/\" + encoder_path + \".pth\")\n",
    "\n",
    "decoder = Decoder()\n",
    "load_model_weights(decoder, weights_folder + \"autoencoder/\" + decoder_path + \".pth\")\n",
    "\n",
    "autoencoder = AutoEncoder(encoder, decoder)\n",
    "autoencoder.eval()"
   ]
  },
  {
   "cell_type": "code",
   "execution_count": 16,
   "id": "575c422d",
   "metadata": {},
   "outputs": [],
   "source": [
    "imgs = load_all_images_in_folder(image_dir)\n",
    "patches = get_img_patches(imgs)"
   ]
  },
  {
   "cell_type": "code",
   "execution_count": 27,
   "id": "c206d289",
   "metadata": {},
   "outputs": [
    {
     "name": "stderr",
     "output_type": "stream",
     "text": [
      "Clipping input data to the valid range for imshow with RGB data ([0..1] for floats or [0..255] for integers).\n"
     ]
    },
    {
     "data": {
      "text/plain": [
       "array([[[0.1254902 , 0.12941177, 0.11764706],\n",
       "        [0.12941177, 0.12941177, 0.11764706],\n",
       "        [0.09803922, 0.09411765, 0.09019608],\n",
       "        ...,\n",
       "        [0.25950938, 0.24288327, 0.21672234],\n",
       "        [0.25623396, 0.25707084, 0.22090957],\n",
       "        [0.22683424, 0.22968212, 0.2054556 ]],\n",
       "\n",
       "       [[0.10980392, 0.11372549, 0.10588235],\n",
       "        [0.12941177, 0.13333334, 0.11764706],\n",
       "        [0.10588235, 0.10196079, 0.09411765],\n",
       "        ...,\n",
       "        [0.24798265, 0.23761207, 0.20634016],\n",
       "        [0.25732437, 0.24708563, 0.21758777],\n",
       "        [0.26300973, 0.25037533, 0.22265306]],\n",
       "\n",
       "       [[0.08627451, 0.09019608, 0.09019608],\n",
       "        [0.11372549, 0.10980392, 0.10196079],\n",
       "        [0.10588235, 0.10980392, 0.09411765],\n",
       "        ...,\n",
       "        [0.24582654, 0.2298896 , 0.1922031 ],\n",
       "        [0.2378676 , 0.22501805, 0.19824144],\n",
       "        [0.24223408, 0.23781103, 0.20096296]],\n",
       "\n",
       "       ...,\n",
       "\n",
       "       [[0.5254902 , 0.49803922, 0.43529412],\n",
       "        [0.56078434, 0.5372549 , 0.47058824],\n",
       "        [0.6431373 , 0.63529414, 0.5686275 ],\n",
       "        ...,\n",
       "        [0.4843642 , 0.4587932 , 0.43030936],\n",
       "        [0.48231363, 0.4859314 , 0.44086796],\n",
       "        [0.45970392, 0.4456436 , 0.4478505 ]],\n",
       "\n",
       "       [[0.39215687, 0.37254903, 0.32156864],\n",
       "        [0.5058824 , 0.47843137, 0.41568628],\n",
       "        [0.60784316, 0.58431375, 0.5176471 ],\n",
       "        ...,\n",
       "        [0.5067519 , 0.5063153 , 0.4683611 ],\n",
       "        [0.49757695, 0.48309898, 0.46064594],\n",
       "        [0.5048865 , 0.5125928 , 0.46242896]],\n",
       "\n",
       "       [[0.3882353 , 0.3764706 , 0.3254902 ],\n",
       "        [0.4509804 , 0.42352942, 0.36862746],\n",
       "        [0.48235294, 0.4509804 , 0.39215687],\n",
       "        ...,\n",
       "        [0.52760184, 0.509884  , 0.48099336],\n",
       "        [0.5112988 , 0.52997935, 0.48089924],\n",
       "        [0.4949544 , 0.47734648, 0.44377163]]], dtype=float32)"
      ]
     },
     "execution_count": 27,
     "metadata": {},
     "output_type": "execute_result"
    },
    {
     "data": {
      "image/png": "[encoded data removed]",
      "text/plain": [
       "<Figure size 720x720 with 1 Axes>"
      ]
     },
     "metadata": {
      "needs_background": "light"
     },
     "output_type": "display_data"
    }
   ],
   "source": [
    "idx = 34\n",
    "reconstructed_patch = autoencoder(torch.permute(torch.from_numpy(patches[idx]), (2, 0, 1)).unsqueeze(0))\n",
    "reconstructed_patch = torch.permute(reconstructed_patch[0], (1, 2, 0))\n",
    "display_imgs_side_by_side(patches[idx], reconstructed_patch.detach().numpy())"
   ]
  },
  {
   "cell_type": "markdown",
   "id": "3d0566c8",
   "metadata": {},
   "source": [
    "# Feature extraction"
   ]
  },
  {
   "cell_type": "code",
   "execution_count": 28,
   "id": "75316401",
   "metadata": {
    "pycharm": {
     "name": "#%%\n"
    }
   },
   "outputs": [
    {
     "name": "stdout",
     "output_type": "stream",
     "text": [
      "Use GPU for features extraction.\n",
      "Starting features extraction...\n",
      "Features saved in output/features/features_encoder_2021-12-07_16-53-36.npy\n"
     ]
    }
   ],
   "source": [
    "# Extract the patches features with the trained autoencoder\n",
    "encoder = Encoder()\n",
    "weights_path = 'encoder_2021-12-07_16-53-36'\n",
    "X = extract_features_encoder(encoder, image_dir, weights_path)"
   ]
  },
  {
   "cell_type": "code",
   "execution_count": 29,
   "id": "53c3f9f2",
   "metadata": {},
   "outputs": [
    {
     "data": {
      "text/plain": [
       "(62500, 12)"
      ]
     },
     "execution_count": 29,
     "metadata": {},
     "output_type": "execute_result"
    }
   ],
   "source": [
    "X.shape"
   ]
  },
  {
   "cell_type": "code",
   "execution_count": 30,
   "id": "6318c39b",
   "metadata": {},
   "outputs": [
    {
     "name": "stdout",
     "output_type": "stream",
     "text": [
      "Loaded 100 images\n",
      "All images have the same size !\n",
      "Image size = 400, 400\n"
     ]
    }
   ],
   "source": [
    "# Load images\n",
    "imgs, gt_imgs = load_images_and_groundtruth(image_dir, gt_dir)\n",
    "patches, gt_patches = get_imgs_gt_patches(imgs, gt_imgs)\n",
    "\n",
    "y = build_gt_from_patches(gt_patches, lambda gt_patch: value_to_class(gt_patch, threshold=0.5))\n",
    "\n",
    "X_train, y_train, X_test, y_test = split_data(X, y, ratio=0.8)"
   ]
  },
  {
   "cell_type": "code",
   "execution_count": 31,
   "id": "ff76fa9c",
   "metadata": {},
   "outputs": [
    {
     "data": {
      "text/plain": [
       "((50000, 12), (12500, 12))"
      ]
     },
     "execution_count": 31,
     "metadata": {},
     "output_type": "execute_result"
    }
   ],
   "source": [
    "X_train.shape, X_test.shape"
   ]
  },
  {
   "cell_type": "code",
   "execution_count": 32,
   "id": "3417b425",
   "metadata": {},
   "outputs": [
    {
     "ename": "IndexError",
     "evalue": "index 3 is out of bounds for axis 0 with size 3",
     "output_type": "error",
     "traceback": [
      "\u001b[0;31m---------------------------------------------------------------------------\u001b[0m",
      "\u001b[0;31mIndexError\u001b[0m                                Traceback (most recent call last)",
      "\u001b[0;32m/tmp/ipykernel_21250/2274371520.py\u001b[0m in \u001b[0;36m<module>\u001b[0;34m\u001b[0m\n\u001b[0;32m----> 1\u001b[0;31m \u001b[0mplot_features_distributions\u001b[0m\u001b[0;34m(\u001b[0m\u001b[0mX_train\u001b[0m\u001b[0;34m,\u001b[0m \u001b[0msave_img\u001b[0m\u001b[0;34m=\u001b[0m\u001b[0;32mTrue\u001b[0m\u001b[0;34m)\u001b[0m\u001b[0;34m\u001b[0m\u001b[0;34m\u001b[0m\u001b[0m\n\u001b[0m",
      "\u001b[0;32m~/MA1/ml/github/ml-project-2-teamphilippe2/helper/visualisations.py\u001b[0m in \u001b[0;36mplot_features_distributions\u001b[0;34m(X, save_img, path)\u001b[0m\n\u001b[1;32m     73\u001b[0m         \u001b[0mrow\u001b[0m \u001b[0;34m=\u001b[0m \u001b[0mi\u001b[0m \u001b[0;34m//\u001b[0m \u001b[0;36m3\u001b[0m\u001b[0;34m\u001b[0m\u001b[0;34m\u001b[0m\u001b[0m\n\u001b[1;32m     74\u001b[0m         \u001b[0mcol\u001b[0m \u001b[0;34m=\u001b[0m \u001b[0mi\u001b[0m \u001b[0;34m%\u001b[0m \u001b[0;36m3\u001b[0m\u001b[0;34m\u001b[0m\u001b[0;34m\u001b[0m\u001b[0m\n\u001b[0;32m---> 75\u001b[0;31m         \u001b[0maxs\u001b[0m\u001b[0;34m[\u001b[0m\u001b[0mrow\u001b[0m\u001b[0;34m,\u001b[0m \u001b[0mcol\u001b[0m\u001b[0;34m]\u001b[0m\u001b[0;34m.\u001b[0m\u001b[0mhist\u001b[0m\u001b[0;34m(\u001b[0m\u001b[0mX\u001b[0m\u001b[0;34m[\u001b[0m\u001b[0;34m:\u001b[0m\u001b[0;34m,\u001b[0m \u001b[0mi\u001b[0m\u001b[0;34m]\u001b[0m\u001b[0;34m,\u001b[0m \u001b[0mbins\u001b[0m\u001b[0;34m=\u001b[0m\u001b[0;36m100\u001b[0m\u001b[0;34m)\u001b[0m\u001b[0;34m\u001b[0m\u001b[0;34m\u001b[0m\u001b[0m\n\u001b[0m\u001b[1;32m     76\u001b[0m         \u001b[0maxs\u001b[0m\u001b[0;34m[\u001b[0m\u001b[0mrow\u001b[0m\u001b[0;34m,\u001b[0m \u001b[0mcol\u001b[0m\u001b[0;34m]\u001b[0m\u001b[0;34m.\u001b[0m\u001b[0mset_title\u001b[0m\u001b[0;34m(\u001b[0m\u001b[0;34mf'Histogram of {labels_features[row]} ({labels_channels[col]})'\u001b[0m\u001b[0;34m)\u001b[0m\u001b[0;34m\u001b[0m\u001b[0;34m\u001b[0m\u001b[0m\n\u001b[1;32m     77\u001b[0m         \u001b[0maxs\u001b[0m\u001b[0;34m[\u001b[0m\u001b[0mrow\u001b[0m\u001b[0;34m,\u001b[0m \u001b[0mcol\u001b[0m\u001b[0;34m]\u001b[0m\u001b[0;34m.\u001b[0m\u001b[0mset_ylabel\u001b[0m\u001b[0;34m(\u001b[0m\u001b[0;34m'Count'\u001b[0m\u001b[0;34m)\u001b[0m\u001b[0;34m\u001b[0m\u001b[0;34m\u001b[0m\u001b[0m\n",
      "\u001b[0;31mIndexError\u001b[0m: index 3 is out of bounds for axis 0 with size 3"
     ]
    },
    {
     "data": {
      "image/png": "[encoded data removed]",
      "text/plain": [
       "<Figure size 720x720 with 9 Axes>"
      ]
     },
     "metadata": {
      "needs_background": "light"
     },
     "output_type": "display_data"
    }
   ],
   "source": [
    "plot_features_distributions(X_train, save_img=True)"
   ]
  },
  {
   "cell_type": "code",
   "execution_count": 33,
   "id": "b7ad03b6",
   "metadata": {},
   "outputs": [],
   "source": [
    "# Standardize the features\n",
    "X_train, means, stds = standardize_features(X_train)\n",
    "\n",
    "# Standardize the test data with the same statistics\n",
    "X_test, _, _ = standardize_features(X_test, means=means, stds=stds)"
   ]
  },
  {
   "cell_type": "code",
   "execution_count": 34,
   "id": "fc0561bb",
   "metadata": {},
   "outputs": [],
   "source": [
    "log_reg = LogisticRegression(class_weight='balanced')"
   ]
  },
  {
   "cell_type": "code",
   "execution_count": 35,
   "id": "08ff1af1",
   "metadata": {},
   "outputs": [
    {
     "data": {
      "text/plain": [
       "LogisticRegression(class_weight='balanced')"
      ]
     },
     "execution_count": 35,
     "metadata": {},
     "output_type": "execute_result"
    }
   ],
   "source": [
    "log_reg.fit(X_train, y_train)"
   ]
  },
  {
   "cell_type": "code",
   "execution_count": 36,
   "id": "a8f7f114",
   "metadata": {},
   "outputs": [],
   "source": [
    "y_pred = log_reg.predict(X_test)"
   ]
  },
  {
   "cell_type": "code",
   "execution_count": 38,
   "id": "4d7f8f06",
   "metadata": {},
   "outputs": [],
   "source": [
    "svm_rbf = SVC(class_weight='balanced', kernel='rbf', cache_size=7000)"
   ]
  },
  {
   "cell_type": "code",
   "execution_count": 39,
   "id": "8e29a2ed",
   "metadata": {},
   "outputs": [
    {
     "data": {
      "text/plain": [
       "SVC(cache_size=7000, class_weight='balanced')"
      ]
     },
     "execution_count": 39,
     "metadata": {},
     "output_type": "execute_result"
    }
   ],
   "source": [
    "svm_rbf.fit(X_train, y_train)"
   ]
  },
  {
   "cell_type": "code",
   "execution_count": 40,
   "id": "d2a62e06",
   "metadata": {},
   "outputs": [],
   "source": [
    "y_pred = svm_rbf.predict(X_test)"
   ]
  },
  {
   "cell_type": "code",
   "execution_count": 41,
   "id": "4656a1f2",
   "metadata": {},
   "outputs": [
    {
     "name": "stdout",
     "output_type": "stream",
     "text": [
      "Performance on the local test set\n",
      "\tF1-score : 0.4613\n",
      "\tRecall : 0.7502\n",
      "\tPrecision : 0.3331\n",
      "\tAccuracy : 0.6594\n"
     ]
    }
   ],
   "source": [
    "_, _, _, _ = compute_scores(y_test, y_pred)"
   ]
  },
  {
   "cell_type": "code",
   "execution_count": null,
   "id": "eb2b4653",
   "metadata": {},
   "outputs": [],
   "source": [
    "from sklearn.ensemble import GradientBoostingClassifier\n",
    "\n",
    "# Use many weak learners as Gradient boosting is\n",
    "# rather robust to overfitting\n",
    "# Use trees with a depth of at most 5\n",
    "gbc = GradientBoostingClassifier(n_estimators=100, max_depth=5)\n",
    "\n",
    "gbc.fit(X_train, y_train)"
   ]
  }
 ],
 "metadata": {
  "kernelspec": {
   "display_name": "Python 3 (ipykernel)",
   "language": "python",
   "name": "python3"
  },
  "language_info": {
   "codemirror_mode": {
    "name": "ipython",
    "version": 3
   },
   "file_extension": ".py",
   "mimetype": "text/x-python",
   "name": "python",
   "nbconvert_exporter": "python",
   "pygments_lexer": "ipython3",
   "version": "3.9.7"
  }
 },
 "nbformat": 4,
 "nbformat_minor": 5
}
