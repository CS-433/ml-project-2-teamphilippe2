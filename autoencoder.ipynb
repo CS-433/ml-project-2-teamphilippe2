{
 "cells": [
  {
   "cell_type": "code",
   "execution_count": 2,
   "id": "165e93fe",
   "metadata": {},
   "outputs": [],
   "source": [
    "from torch import nn\n",
    "from torch.nn.functional import relu, max_pool2d"
   ]
  },
  {
   "cell_type": "code",
   "execution_count": 4,
   "id": "c01007ba",
   "metadata": {},
   "outputs": [],
   "source": [
    "from torch.nn.functional import dropout\n",
    "\n",
    "\n",
    "class Encoder(nn.Module):\n",
    "    def __init__(self):\n",
    "        super().__init__()\n",
    "\n",
    "        # First level of convolutions\n",
    "        # input 400x400x3\n",
    "        self.conv1 = nn.Conv2d(3, 16, 5)\n",
    "\n",
    "        # Second level of convolutions\n",
    "        # input x400x16\n",
    "        self.conv2 = nn.Conv2d(16, 32, 5)\n",
    "\n",
    "        # Third level of convolutions\n",
    "        self.conv3 = nn.Conv2d(32, 64, 3)\n",
    "\n",
    "        # Max pooling\n",
    "        self.maxpool = nn.MaxPool2d(2)\n",
    "\n",
    "        # Fully Connected layer\n",
    "        #self.fc = nn.Linear(64*, 64)\n",
    "\n",
    "    def forward(self, x):\n",
    "        x = relu(self.conv1(x))\n",
    "        x = self.maxpool(x)\n",
    "\n",
    "        x = relu(self.conv2(x))\n",
    "        x = self.maxpool(x)\n",
    "\n",
    "        x = relu(self.conv3(x))\n",
    "        x = self.maxpool(x)\n",
    "\n",
    "        # Flatten the feature maps into a vector\n",
    "        print(x.shape)\n",
    "        #x = x.view(-1, )\n",
    "\n",
    "        x = dropout(x, p=0.25, training=self.training)\n",
    "\n",
    "        return self.fc(x)\n",
    "\n"
   ]
  },
  {
   "cell_type": "code",
   "execution_count": 5,
   "outputs": [],
   "source": [
    "class Decoder(nn.Module):\n",
    "    def __init__(self):\n",
    "        super().__init__()\n",
    "\n",
    "        # First fully connected layer\n",
    "        self.fc = nn.Linear(64, 256)\n",
    "\n",
    "        # First deconvolution\n",
    "        self.deconv1 = nn.ConvTranspose2d(32, 16, 3)\n",
    "\n",
    "        # Second deconvolution\n",
    "        self.deconv2 = nn.ConvTranspose2d(16, 8, 5)\n",
    "\n",
    "        # Third deconvolution\n",
    "        self.deconv3 = nn.ConvTranspose2d(8, 3, 5)\n",
    "\n",
    "    def forward(self, x):\n",
    "        x = relu(self.fc(x))\n",
    "        x = dropout(x, p=0.25, training=self.training)\n",
    "\n",
    "        # Reshape into 32 feature maps\n",
    "        x = x.view(-1, 32)\n",
    "        x = relu(self.deconv1(x))\n",
    "        x = relu(self.deconv2(x))\n",
    "        x = self.deconv3(x)\n",
    "\n",
    "        return x"
   ],
   "metadata": {
    "collapsed": false,
    "pycharm": {
     "name": "#%%\n"
    }
   }
  },
  {
   "cell_type": "code",
   "execution_count": 6,
   "outputs": [],
   "source": [
    "class FullModel(nn.Module):\n",
    "    def __init__(self, encoder, decoder):\n",
    "        self.encoder = encoder\n",
    "        self.decoder = decoder\n",
    "\n",
    "    def forward(self, x):\n",
    "        x = self.encoder(x)\n",
    "        return self.decoder(x)"
   ],
   "metadata": {
    "collapsed": false,
    "pycharm": {
     "name": "#%%\n"
    }
   }
  },
  {
   "cell_type": "code",
   "execution_count": null,
   "outputs": [],
   "source": [],
   "metadata": {
    "collapsed": false,
    "pycharm": {
     "name": "#%%\n"
    }
   }
  }
 ],
 "metadata": {
  "kernelspec": {
   "display_name": "Python 3 (ipykernel)",
   "language": "python",
   "name": "python3"
  },
  "language_info": {
   "codemirror_mode": {
    "name": "ipython",
    "version": 3
   },
   "file_extension": ".py",
   "mimetype": "text/x-python",
   "name": "python",
   "nbconvert_exporter": "python",
   "pygments_lexer": "ipython3",
   "version": "3.8.11"
  }
 },
 "nbformat": 4,
 "nbformat_minor": 5
}