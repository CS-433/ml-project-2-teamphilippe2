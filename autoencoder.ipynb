{
 "cells": [
  {
   "cell_type": "code",
   "execution_count": 1,
   "outputs": [],
   "source": [
    "from helper.neural_net import *\n",
    "from models.autoencoder import *\n",
    "\n",
    "%load_ext autoreload\n",
    "%autoreload 2"
   ],
   "metadata": {
    "collapsed": false,
    "pycharm": {
     "name": "#%%\n"
    }
   }
  },
  {
   "cell_type": "code",
   "execution_count": 2,
   "outputs": [
    {
     "name": "stdout",
     "output_type": "stream",
     "text": [
      "Loaded 100 images\n",
      "All images have the same size !\n",
      "Image size = 400, 400\n"
     ]
    }
   ],
   "source": [
    "ds = AugmentedRoadImages(image_dir, gt_dir, 0.8, 0)\n",
    "\n",
    "dataset_train = torch.utils.data.DataLoader(ds,\n",
    "                                            batch_size=10,\n",
    "                                            shuffle=True\n",
    "                                            )"
   ],
   "metadata": {
    "collapsed": false,
    "pycharm": {
     "name": "#%%\n"
    }
   }
  },
  {
   "cell_type": "code",
   "execution_count": 11,
   "outputs": [
    {
     "name": "stdout",
     "output_type": "stream",
     "text": [
      "torch.Size([10, 3, 400, 400])\n",
      "torch.Size([10, 64, 47, 47])\n",
      "torch.Size([10, 141376])\n"
     ]
    }
   ],
   "source": [
    "encoder = Encoder()\n",
    "for batch_x, batch_y in dataset_train:\n",
    "    print(batch_x.shape)\n",
    "    encoder(batch_x)\n",
    "    break"
   ],
   "metadata": {
    "collapsed": false,
    "pycharm": {
     "name": "#%%\n"
    }
   }
  },
  {
   "cell_type": "code",
   "execution_count": null,
   "outputs": [
    {
     "name": "stdout",
     "output_type": "stream",
     "text": [
      "Loaded 100 images\n",
      "All images have the same size !\n",
      "Image size = 400, 400\n",
      "Things will go much quicker with a GPU\n",
      "Starting training\n"
     ]
    }
   ],
   "source": [
    "run_experiment('autoencoder', 'bce', 'Adam', image_dir, gt_dir, num_epochs=1, autoencoder=True)"
   ],
   "metadata": {
    "collapsed": false,
    "pycharm": {
     "name": "#%%\n",
     "is_executing": true
    }
   }
  },
  {
   "cell_type": "code",
   "execution_count": null,
   "outputs": [],
   "source": [],
   "metadata": {
    "collapsed": false,
    "pycharm": {
     "name": "#%%\n"
    }
   }
  }
 ],
 "metadata": {
  "kernelspec": {
   "display_name": "Python 3 (ipykernel)",
   "language": "python",
   "name": "python3"
  },
  "language_info": {
   "codemirror_mode": {
    "name": "ipython",
    "version": 3
   },
   "file_extension": ".py",
   "mimetype": "text/x-python",
   "name": "python",
   "nbconvert_exporter": "python",
   "pygments_lexer": "ipython3",
   "version": "3.8.11"
  }
 },
 "nbformat": 4,
 "nbformat_minor": 5
}