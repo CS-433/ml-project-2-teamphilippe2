{
 "cells": [
  {
   "cell_type": "code",
   "execution_count": 1,
   "metadata": {
    "collapsed": false,
    "jupyter": {
     "outputs_hidden": false
    },
    "pycharm": {
     "name": "#%%\n"
    }
   },
   "outputs": [],
   "source": [
    "import numpy as np\n",
    "%matplotlib inline\n",
    "%load_ext autoreload\n",
    "%autoreload 2\n",
    "\n",
    "from helper.neural_net import *\n",
    "from helper.const import *"
   ]
  },
  {
   "cell_type": "code",
   "execution_count": 3,
   "metadata": {
    "collapsed": false,
    "jupyter": {
     "outputs_hidden": false
    },
    "pycharm": {
     "is_executing": true,
     "name": "#%%\n"
    },
    "tags": []
   },
   "outputs": [
    {
     "name": "stdout",
     "output_type": "stream",
     "text": [
      "Loaded 100 images\n",
      "All images have the same size !\n",
      "Image size = 400, 400\n",
      "Number of parameters in the model 3120730\n",
      "Cuda memory allocated for training 11.93994140625 MB\n",
      "Starting training\n"
     ]
    },
    {
     "name": "stderr",
     "output_type": "stream",
     "text": [
      "100%|████████████████████████████████████████████████████████████████████████████████| 544/544 [02:10<00:00,  4.18it/s]\n"
     ]
    },
    {
     "name": "stdout",
     "output_type": "stream",
     "text": [
      "Epoch 0 | Test F1: 0.51648 | Test accuracy: 0.80723\n",
      "End of training\n",
      "Predicting pixels...\n",
      "Performance on the local test set\n",
      "\tF1-score : 0.5147\n",
      "\tRecall : 0.4544\n",
      "\tPrecision : 0.5936\n",
      "\tAccuracy : 0.8072\n"
     ]
    }
   ],
   "source": [
    "# import torch\n",
    "torch.cuda.empty_cache()\n",
    "\n",
    "train_losses, test_losses, f1s_test, accuracies_test = run_experiment(\"nnet\", \"bcelogit\", \"adam\"\n",
    "                                                     ,image_dir, gt_dir, batch_size=5, learning_rate=1e-3\n",
    "                                                     ,lr_scheduler = True,  lr_schedule=(80, 0.1), num_epochs=1, verbose=True, pos_weight=True)"
   ]
  },
  {
   "cell_type": "code",
   "execution_count": 2,
   "metadata": {
    "collapsed": false,
    "jupyter": {
     "outputs_hidden": false
    },
    "pycharm": {
     "name": "#%%\n"
    }
   },
   "outputs": [
    {
     "name": "stdout",
     "output_type": "stream",
     "text": [
      "\n",
      "==> Loading test set...\n",
      "\n",
      "\n",
      "==> Loading model...\n",
      "\n",
      "Used weights output/weights/nnet/2021-12-21_22-23-00.pth\n",
      "\n",
      "==> Predicting labels for the test set...\n",
      "\n",
      "==> Creating submission file...\n",
      "\n",
      "==> Submission files saved.\n"
     ]
    }
   ],
   "source": [
    "import run\n",
    "run.main()"
   ]
  },
  {
   "cell_type": "code",
   "execution_count": null,
   "metadata": {},
   "outputs": [],
   "source": []
  }
 ],
 "metadata": {
  "kernelspec": {
   "display_name": "Python 3 (ipykernel)",
   "language": "python",
   "name": "python3"
  },
  "language_info": {
   "codemirror_mode": {
    "name": "ipython",
    "version": 3
   },
   "file_extension": ".py",
   "mimetype": "text/x-python",
   "name": "python",
   "nbconvert_exporter": "python",
   "pygments_lexer": "ipython3",
   "version": "3.8.12"
  }
 },
 "nbformat": 4,
 "nbformat_minor": 4
}
