{
 "cells": [
  {
   "cell_type": "code",
   "execution_count": null,
   "metadata": {
    "collapsed": true
   },
   "outputs": [],
   "source": []
  },
  {
   "cell_type": "code",
   "execution_count": 2,
   "outputs": [],
   "source": [
    "import numpy as np\n",
    "%matplotlib inline\n",
    "%load_ext autoreload\n",
    "%autoreload 2\n",
    "\n",
    "from helper.neural_net import *\n",
    "from helper.const import *"
   ],
   "metadata": {
    "collapsed": false,
    "pycharm": {
     "name": "#%%\n"
    }
   }
  },
  {
   "cell_type": "code",
   "execution_count": null,
   "outputs": [
    {
     "name": "stdout",
     "output_type": "stream",
     "text": [
      "Loaded 100 images\n",
      "All images have the same size !\n",
      "Image size = 400, 400\n",
      "Things will go much quicker with a GPU\n",
      "Number of parameters in the model 8449671\n",
      "Starting training\n",
      "Conv 1 : torch.Size([20, 64, 400, 400])\n",
      "Pool 1 : torch.Size([20, 64, 200, 200])\n",
      "Conv 2 : torch.Size([20, 128, 200, 200])\n",
      "Pool 2 : torch.Size([20, 128, 100, 100])\n",
      "Conv 3 : torch.Size([20, 256, 100, 100])\n",
      "Pool 3 : torch.Size([20, 256, 50, 50])\n",
      "Mid_down : torch.Size([20, 512, 50, 50])\n",
      "Mid up : torch.Size([20, 256, 100, 100])\n",
      "Concat 2 : torch.Size([20, 512, 100, 100])\n",
      "Deconv 2 : torch.Size([20, 128, 200, 200])\n",
      "Concat 3 : torch.Size([20, 256, 200, 200])\n",
      "deconv 3 : torch.Size([20, 64, 400, 400])\n",
      "Concat 4 : torch.Size([20, 128, 400, 400])\n",
      "output 4 : torch.Size([20, 1, 400, 400])\n",
      "Conv 1 : torch.Size([20, 64, 400, 400])\n",
      "Pool 1 : torch.Size([20, 64, 200, 200])\n",
      "Conv 2 : torch.Size([20, 128, 200, 200])\n",
      "Pool 2 : torch.Size([20, 128, 100, 100])\n",
      "Conv 3 : torch.Size([20, 256, 100, 100])\n",
      "Pool 3 : torch.Size([20, 256, 50, 50])\n",
      "Mid_down : torch.Size([20, 512, 50, 50])\n",
      "Mid up : torch.Size([20, 256, 100, 100])\n",
      "Concat 2 : torch.Size([20, 512, 100, 100])\n",
      "Deconv 2 : torch.Size([20, 128, 200, 200])\n",
      "Concat 3 : torch.Size([20, 256, 200, 200])\n",
      "deconv 3 : torch.Size([20, 64, 400, 400])\n",
      "Concat 4 : torch.Size([20, 128, 400, 400])\n",
      "output 4 : torch.Size([20, 1, 400, 400])\n"
     ]
    }
   ],
   "source": [
    "import torch\n",
    "torch.cuda.empty_cache()\n",
    "\n",
    "train_losses, test_loss, accuracies = run_experiment(\"unet\", \"bce\", \"adam\"\n",
    "                                                     ,image_dir, gt_dir, batch_size=20, learning_rate=1e-4\n",
    "                                                     ,lr_scheduler = True,  lr_schedule=(30, 0.1), num_epochs=100, verbose=True)"
   ],
   "metadata": {
    "collapsed": false,
    "pycharm": {
     "name": "#%%\n",
     "is_executing": true
    }
   }
  },
  {
   "cell_type": "code",
   "execution_count": null,
   "outputs": [],
   "source": [
    "import run\n",
    "run.main()"
   ],
   "metadata": {
    "collapsed": false,
    "pycharm": {
     "name": "#%%\n"
    }
   }
  }
 ],
 "metadata": {
  "kernelspec": {
   "display_name": "Python 3",
   "language": "python",
   "name": "python3"
  },
  "language_info": {
   "codemirror_mode": {
    "name": "ipython",
    "version": 2
   },
   "file_extension": ".py",
   "mimetype": "text/x-python",
   "name": "python",
   "nbconvert_exporter": "python",
   "pygments_lexer": "ipython2",
   "version": "2.7.6"
  }
 },
 "nbformat": 4,
 "nbformat_minor": 0
}