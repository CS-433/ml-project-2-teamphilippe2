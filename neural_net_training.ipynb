{
 "cells": [
  {
   "cell_type": "code",
   "execution_count": null,
   "metadata": {
    "tags": []
   },
   "outputs": [],
   "source": []
  },
  {
   "cell_type": "code",
   "execution_count": 1,
   "metadata": {
    "collapsed": false,
    "jupyter": {
     "outputs_hidden": false
    },
    "pycharm": {
     "name": "#%%\n"
    }
   },
   "outputs": [],
   "source": [
    "import numpy as np\n",
    "%matplotlib inline\n",
    "%load_ext autoreload\n",
    "%autoreload 2\n",
    "\n",
    "from helper.neural_net import *\n",
    "from helper.const import *"
   ]
  },
  {
   "cell_type": "code",
   "execution_count": null,
   "metadata": {
    "collapsed": false,
    "jupyter": {
     "outputs_hidden": false
    },
    "pycharm": {
     "is_executing": true,
     "name": "#%%\n"
    },
    "tags": []
   },
   "outputs": [
    {
     "name": "stdout",
     "output_type": "stream",
     "text": [
      "Loaded 100 images\n",
      "All images have the same size !\n",
      "Image size = 400, 400\n",
      "Number of parameters in the model 3120730\n",
      "Cuda memory allocated for training 11.93994140625 MB\n",
      "Starting training\n",
      "Epoch 0 | Test F1: 0.44055 | Test accuracy: 0.43739\n",
      "Epoch 10 | Test F1: 0.72485 | Test accuracy: 0.86891\n",
      "Epoch 20 | Test F1: 0.73307 | Test accuracy: 0.88195\n",
      "Epoch 30 | Test F1: 0.75515 | Test accuracy: 0.88744\n"
     ]
    }
   ],
   "source": [
    "import torch\n",
    "torch.cuda.empty_cache()\n",
    "\n",
    "train_losses, test_losses, f1s_test, accuracies_test = run_experiment(\"nnet\", \"bcelogit\", \"adam\"\n",
    "                                                     ,image_dir, gt_dir, batch_size=40, learning_rate=1e-3\n",
    "                                                     ,lr_scheduler = True,  lr_schedule=(100, 0.1), num_epochs=250, verbose\n",
    "=True, pos_weight=True)"
   ]
  },
  {
   "cell_type": "code",
   "execution_count": 2,
   "metadata": {
    "collapsed": false,
    "jupyter": {
     "outputs_hidden": false
    },
    "pycharm": {
     "name": "#%%\n"
    }
   },
   "outputs": [
    {
     "name": "stdout",
     "output_type": "stream",
     "text": [
      "\n",
      "==> Loading test set...\n",
      "\n",
      "\n",
      "==> Loading model...\n",
      "\n",
      "Used weights output/weights/nnet/2021-12-20_15-32-58.pth\n",
      "\n",
      "==> Predicting labels for the test set...\n",
      "\n",
      "==> Creating submission file...\n",
      "\n",
      "==> Submission files saved.\n"
     ]
    }
   ],
   "source": [
    "import run\n",
    "run.main()"
   ]
  },
  {
   "cell_type": "code",
   "execution_count": 3,
   "metadata": {},
   "outputs": [],
   "source": [
    "np.save('best_train_batchnorm_bcelogit.npy',np.array(train_losses))\n",
    "np.save('best_test_batchnorm_bcelogit.npy',np.array(test_loss))\n",
    "np.save('best_tacc_batchnorm_bcelogit.npy',np.array(accuracies))"
   ]
  },
  {
   "cell_type": "code",
   "execution_count": null,
   "metadata": {},
   "outputs": [],
   "source": []
  }
 ],
 "metadata": {
  "kernelspec": {
   "display_name": "Python 3 (ipykernel)",
   "language": "python",
   "name": "python3"
  },
  "language_info": {
   "codemirror_mode": {
    "name": "ipython",
    "version": 3
   },
   "file_extension": ".py",
   "mimetype": "text/x-python",
   "name": "python",
   "nbconvert_exporter": "python",
   "pygments_lexer": "ipython3",
   "version": "3.8.12"
  }
 },
 "nbformat": 4,
 "nbformat_minor": 4
}
