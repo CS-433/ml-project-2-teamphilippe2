{
 "cells": [
  {
   "cell_type": "code",
   "execution_count": null,
   "metadata": {
    "tags": []
   },
   "outputs": [],
   "source": []
  },
  {
   "cell_type": "code",
   "execution_count": 1,
   "metadata": {
    "collapsed": false,
    "jupyter": {
     "outputs_hidden": false
    },
    "pycharm": {
     "name": "#%%\n"
    }
   },
   "outputs": [],
   "source": [
    "import numpy as np\n",
    "%matplotlib inline\n",
    "%load_ext autoreload\n",
    "%autoreload 2\n",
    "\n",
    "from helper.neural_net import *\n",
    "from helper.const import *"
   ]
  },
  {
   "cell_type": "code",
   "execution_count": 5,
   "metadata": {
    "collapsed": false,
    "jupyter": {
     "outputs_hidden": false
    },
    "pycharm": {
     "is_executing": true,
     "name": "#%%\n"
    }
   },
   "outputs": [
    {
     "name": "stdout",
     "output_type": "stream",
     "text": [
      "Loaded 100 images\n",
      "All images have the same size !\n",
      "Image size = 400, 400\n",
      "Number of parameters in the model 2114375\n",
      "Cuda memory for the model 8477696\n",
      "Starting training\n",
      "Epoch 0 | Test accuracy: 0.65783\n",
      "Epoch 1 | Test accuracy: 0.66174\n",
      "Epoch 2 | Test accuracy: 0.67156\n",
      "Epoch 3 | Test accuracy: 0.67494\n",
      "Epoch 4 | Test accuracy: 0.68173\n",
      "End of training\n",
      "Predicting pixels...\n",
      "Performance on the local test set\n",
      "\tF1-score : 0.6601\n",
      "\tRecall : 0.5644\n",
      "\tPrecision : 0.7950\n",
      "\tAccuracy : 0.8692\n"
     ]
    }
   ],
   "source": [
    "import torch\n",
    "torch.cuda.empty_cache()\n",
    "\n",
    "train_losses, test_loss, accuracies = run_experiment(\"unet\", \"bce\", \"adam\"\n",
    "                                                     ,image_dir, gt_dir, batch_size=10, learning_rate=1e-4\n",
    "                                                     ,lr_scheduler = False,  lr_schedule=(30, 0.1), num_epochs=5, verbose=True)"
   ]
  },
  {
   "cell_type": "code",
   "execution_count": 3,
   "metadata": {
    "collapsed": false,
    "jupyter": {
     "outputs_hidden": false
    },
    "pycharm": {
     "name": "#%%\n"
    }
   },
   "outputs": [
    {
     "name": "stdout",
     "output_type": "stream",
     "text": [
      "\n",
      "==> Loading test set...\n",
      "\n",
      "\n",
      "==> Loading model...\n",
      "\n",
      "Used weights output/weights/unet/2021-12-09_21-47-30.pth\n",
      "\n",
      "==> Predicting labels for the test set...\n",
      "\n",
      "Predicting pixels...\n",
      "==> Creating submission file...\n",
      "\n",
      "==> Submission files saved.\n"
     ]
    }
   ],
   "source": [
    "import run\n",
    "run.main()"
   ]
  },
  {
   "cell_type": "code",
   "execution_count": null,
   "metadata": {},
   "outputs": [],
   "source": []
  }
 ],
 "metadata": {
  "kernelspec": {
   "display_name": "Python 3 (ipykernel)",
   "language": "python",
   "name": "python3"
  },
  "language_info": {
   "codemirror_mode": {
    "name": "ipython",
    "version": 3
   },
   "file_extension": ".py",
   "mimetype": "text/x-python",
   "name": "python",
   "nbconvert_exporter": "python",
   "pygments_lexer": "ipython3",
   "version": "3.8.12"
  }
 },
 "nbformat": 4,
 "nbformat_minor": 4
}
