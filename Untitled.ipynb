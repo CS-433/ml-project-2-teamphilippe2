{
 "cells": [
  {
   "cell_type": "code",
   "execution_count": 1,
   "id": "52516132-9028-492f-8164-364bdbf60926",
   "metadata": {},
   "outputs": [],
   "source": [
    "import numpy as np\n",
    "%matplotlib inline\n",
    "%load_ext autoreload\n",
    "%autoreload 2\n",
    "\n",
    "from helper.neural_net import *\n",
    "from helper.const import *"
   ]
  },
  {
   "cell_type": "code",
   "execution_count": null,
   "id": "9ad8b9cc-5e1f-4e06-a2a4-f110b99cc2dc",
   "metadata": {
    "pycharm": {
     "is_executing": true
    }
   },
   "outputs": [
    {
     "name": "stdout",
     "output_type": "stream",
     "text": [
      "Loaded 100 images\n",
      "All images have the same size !\n",
      "Image size = 400, 400\n",
      "Things will go much quicker with a GPU\n",
      "Starting training\n",
      "torch.Size([1, 1, 400, 400])\n",
      "torch.Size([1, 1, 400, 400])\n",
      "Epoch 0 | Test accuracy: 0.21520\n",
      "torch.Size([1, 1, 400, 400])\n",
      "torch.Size([1, 1, 400, 400])\n",
      "Epoch 1 | Test accuracy: 0.21520\n",
      "torch.Size([1, 1, 400, 400])\n",
      "torch.Size([1, 1, 400, 400])\n"
     ]
    }
   ],
   "source": [
    "run_experiment(\"nnet\", \"bce\", \"sgd\",  image_dir, gt_dir,batch_size=1)"
   ]
  },
  {
   "cell_type": "code",
   "execution_count": null,
   "outputs": [],
   "source": [],
   "metadata": {
    "collapsed": false,
    "pycharm": {
     "name": "#%%\n"
    }
   }
  },
  {
   "cell_type": "code",
   "execution_count": null,
   "outputs": [],
   "source": [],
   "metadata": {
    "collapsed": false,
    "pycharm": {
     "name": "#%%\n"
    }
   }
  }
 ],
 "metadata": {
  "kernelspec": {
   "display_name": "Python 3 (ipykernel)",
   "language": "python",
   "name": "python3"
  },
  "language_info": {
   "codemirror_mode": {
    "name": "ipython",
    "version": 3
   },
   "file_extension": ".py",
   "mimetype": "text/x-python",
   "name": "python",
   "nbconvert_exporter": "python",
   "pygments_lexer": "ipython3",
   "version": "3.8.12"
  }
 },
 "nbformat": 4,
 "nbformat_minor": 5
}