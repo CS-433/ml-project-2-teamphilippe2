{
 "cells": [
  {
   "cell_type": "code",
   "execution_count": 106,
   "id": "52516132-9028-492f-8164-364bdbf60926",
   "metadata": {},
   "outputs": [
    {
     "name": "stdout",
     "output_type": "stream",
     "text": [
      "The autoreload extension is already loaded. To reload it, use:\n",
      "  %reload_ext autoreload\n"
     ]
    }
   ],
   "source": [
    "import numpy as np\n",
    "%matplotlib inline\n",
    "%load_ext autoreload\n",
    "%autoreload 2\n",
    "\n",
    "from helper.neural_net import *\n",
    "from helper.const import *"
   ]
  },
  {
   "cell_type": "code",
   "execution_count": null,
   "id": "9ad8b9cc-5e1f-4e06-a2a4-f110b99cc2dc",
   "metadata": {
    "pycharm": {
     "is_executing": true
    }
   },
   "outputs": [
    {
     "name": "stdout",
     "output_type": "stream",
     "text": [
      "Loaded 100 images\n",
      "All images have the same size !\n",
      "Image size = 400, 400\n",
      "Starting training\n",
      "Epoch 0 | Test accuracy: 0.77499\n",
      "Epoch 1 | Test accuracy: 0.75890\n",
      "Epoch 2 | Test accuracy: 0.73220\n",
      "Epoch 3 | Test accuracy: 0.72140\n",
      "Epoch 4 | Test accuracy: 0.71546\n",
      "Epoch 5 | Test accuracy: 0.71107\n",
      "Epoch 6 | Test accuracy: 0.70907\n",
      "Epoch 7 | Test accuracy: 0.70547\n",
      "Epoch 8 | Test accuracy: 0.70264\n"
     ]
    }
   ],
   "source": [
    "import torch\n",
    "torch.cuda.empty_cache()\n",
    "\n",
    "train_losses, test_loss, accuracies = run_experiment(\"nnet\", \"bce\", \"adam\"\\\n",
    "                                                    ,image_dir, gt_dir, batch_size=50\\\n",
    "                                                    ,lr_scheduler = True,  lr_schedule=(30, 0.1), num_epochs=300, verbose=True)"
   ]
  },
  {
   "cell_type": "code",
   "execution_count": 105,
   "id": "be95efe5",
   "metadata": {
    "collapsed": false,
    "jupyter": {
     "outputs_hidden": false
    },
    "pycharm": {
     "name": "#%%\n"
    }
   },
   "outputs": [
    {
     "name": "stdout",
     "output_type": "stream",
     "text": [
      "\n",
      "==> Loading test set...\n",
      "\n",
      "\n",
      "==> Loading model...\n",
      "\n",
      "\n",
      "==> Predicting labels for the test set...\n",
      "\n",
      "Predicting pixels...\n",
      "==> Creating submission file...\n",
      "\n",
      "==> Submission files saved.\n"
     ]
    }
   ],
   "source": [
    "import run \n",
    "run.main()"
   ]
  },
  {
   "cell_type": "code",
   "execution_count": null,
   "id": "328990ac-d86c-47bf-8cdf-078eb3071a5a",
   "metadata": {},
   "outputs": [],
   "source": []
  }
 ],
 "metadata": {
  "kernelspec": {
   "display_name": "Python 3 (ipykernel)",
   "language": "python",
   "name": "python3"
  },
  "language_info": {
   "codemirror_mode": {
    "name": "ipython",
    "version": 3
   },
   "file_extension": ".py",
   "mimetype": "text/x-python",
   "name": "python",
   "nbconvert_exporter": "python",
   "pygments_lexer": "ipython3",
   "version": "3.8.12"
  }
 },
 "nbformat": 4,
 "nbformat_minor": 5
}
