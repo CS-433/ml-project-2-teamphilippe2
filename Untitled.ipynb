{
 "cells": [
  {
   "cell_type": "code",
   "execution_count": 2,
   "id": "52516132-9028-492f-8164-364bdbf60926",
   "metadata": {},
   "outputs": [],
   "source": [
    "%matplotlib inline\n",
    "%load_ext autoreload\n",
    "%autoreload 2\n",
    "\n",
    "from helper.neural_net import *\n",
    "from helper.const import *"
   ]
  },
  {
   "cell_type": "code",
   "execution_count": 4,
   "id": "9ad8b9cc-5e1f-4e06-a2a4-f110b99cc2dc",
   "metadata": {},
   "outputs": [
    {
     "name": "stdout",
     "output_type": "stream",
     "text": [
      "Loaded 100 images\n",
      "All images have the same size !\n",
      "Image size = 400, 400\n",
      "Things will go much quicker with a GPU\n",
      "Starting training\n",
      "Conv 1: torch.Size([100, 64, 396, 396])\n",
      "Pool 1: torch.Size([100, 64, 198, 198])\n",
      "Conv 2: torch.Size([100, 128, 194, 194])\n",
      "Pool 2: torch.Size([100, 128, 97, 97])\n",
      "Conv 3: torch.Size([100, 256, 91, 91])\n",
      "Pool 3: torch.Size([100, 256, 45, 45])\n",
      "Conv 4: torch.Size([100, 512, 39, 39])\n",
      "Pool 4: torch.Size([100, 512, 19, 19])\n",
      "Conv 6: torch.Size([100, 1024, 17, 17])\n",
      "Drop 1: torch.Size([100, 1024, 17, 17])\n",
      "Conv 11: torch.Size([100, 3, 15, 15])\n",
      "Deconv_1: torch.Size([100, 3, 30, 30])\n",
      "Conv_10: torch.Size([100, 3, 17, 17])\n"
     ]
    },
    {
     "ename": "RuntimeError",
     "evalue": "Sizes of tensors must match except in dimension 1. Expected size 30 but got size 17 for tensor number 1 in the list.",
     "output_type": "error",
     "traceback": [
      "\u001B[0;31m---------------------------------------------------------------------------\u001B[0m",
      "\u001B[0;31mRuntimeError\u001B[0m                              Traceback (most recent call last)",
      "\u001B[0;32m/var/folders/vf/btrykr5n65v_k_lwb61317k80000gn/T/ipykernel_77168/4294102776.py\u001B[0m in \u001B[0;36m<module>\u001B[0;34m\u001B[0m\n\u001B[0;32m----> 1\u001B[0;31m \u001B[0mrun_experiment\u001B[0m\u001B[0;34m(\u001B[0m\u001B[0;34m\"nnet\"\u001B[0m\u001B[0;34m,\u001B[0m \u001B[0;34m\"cross-entropy\"\u001B[0m\u001B[0;34m,\u001B[0m \u001B[0;34m\"sgd\"\u001B[0m\u001B[0;34m,\u001B[0m  \u001B[0mimage_dir\u001B[0m\u001B[0;34m,\u001B[0m\u001B[0mgt_dir\u001B[0m\u001B[0;34m)\u001B[0m\u001B[0;34m\u001B[0m\u001B[0;34m\u001B[0m\u001B[0m\n\u001B[0m",
      "\u001B[0;32m~/Documents/EPFL/MA1/ML/ml-project-2-teamphilippe2/helper/neural_net.py\u001B[0m in \u001B[0;36mrun_experiment\u001B[0;34m(model_str, loss_fct_str, optimizer_str, image_dir, gt_dir, num_epochs, learning_rate, momentum, batch_size, save_weights, ratio_test, seed)\u001B[0m\n\u001B[1;32m    180\u001B[0m     \u001B[0moptimizer\u001B[0m \u001B[0;34m=\u001B[0m \u001B[0moptimizer_from_string\u001B[0m\u001B[0;34m(\u001B[0m\u001B[0moptimizer_str\u001B[0m\u001B[0;34m,\u001B[0m \u001B[0mmodel\u001B[0m\u001B[0;34m.\u001B[0m\u001B[0mparameters\u001B[0m\u001B[0;34m(\u001B[0m\u001B[0;34m)\u001B[0m\u001B[0;34m,\u001B[0m \u001B[0mlearning_rate\u001B[0m\u001B[0;34m,\u001B[0m \u001B[0mmomentum\u001B[0m\u001B[0;34m)\u001B[0m\u001B[0;34m\u001B[0m\u001B[0;34m\u001B[0m\u001B[0m\n\u001B[1;32m    181\u001B[0m \u001B[0;34m\u001B[0m\u001B[0m\n\u001B[0;32m--> 182\u001B[0;31m     \u001B[0mtrain\u001B[0m\u001B[0;34m(\u001B[0m\u001B[0mmodel\u001B[0m\u001B[0;34m,\u001B[0m \u001B[0mcriterion\u001B[0m\u001B[0;34m,\u001B[0m \u001B[0mdataset_train\u001B[0m\u001B[0;34m,\u001B[0m \u001B[0mds\u001B[0m\u001B[0;34m.\u001B[0m\u001B[0mget_test_set\u001B[0m\u001B[0;34m(\u001B[0m\u001B[0;34m)\u001B[0m\u001B[0;34m,\u001B[0m \u001B[0mdevice\u001B[0m\u001B[0;34m,\u001B[0m \u001B[0moptimizer\u001B[0m\u001B[0;34m,\u001B[0m \u001B[0mnum_epochs\u001B[0m\u001B[0;34m)\u001B[0m\u001B[0;34m\u001B[0m\u001B[0;34m\u001B[0m\u001B[0m\n\u001B[0m\u001B[1;32m    183\u001B[0m \u001B[0;34m\u001B[0m\u001B[0m\n\u001B[1;32m    184\u001B[0m     \u001B[0;32mif\u001B[0m \u001B[0msave_weights\u001B[0m\u001B[0;34m:\u001B[0m\u001B[0;34m\u001B[0m\u001B[0;34m\u001B[0m\u001B[0m\n",
      "\u001B[0;32m~/Documents/EPFL/MA1/ML/ml-project-2-teamphilippe2/helper/neural_net.py\u001B[0m in \u001B[0;36mtrain\u001B[0;34m(model, criterion, dataset_train, dataset_test, device, optimizer, num_epochs, print_iteration)\u001B[0m\n\u001B[1;32m     39\u001B[0m             \u001B[0mbatch_x\u001B[0m\u001B[0;34m,\u001B[0m \u001B[0mbatch_y\u001B[0m \u001B[0;34m=\u001B[0m \u001B[0mbatch_x\u001B[0m\u001B[0;34m.\u001B[0m\u001B[0mto\u001B[0m\u001B[0;34m(\u001B[0m\u001B[0mdevice\u001B[0m\u001B[0;34m)\u001B[0m\u001B[0;34m,\u001B[0m \u001B[0mbatch_y\u001B[0m\u001B[0;34m.\u001B[0m\u001B[0mto\u001B[0m\u001B[0;34m(\u001B[0m\u001B[0mdevice\u001B[0m\u001B[0;34m)\u001B[0m\u001B[0;34m\u001B[0m\u001B[0;34m\u001B[0m\u001B[0m\n\u001B[1;32m     40\u001B[0m             \u001B[0;31m# Evaluate the network (forward pass)\u001B[0m\u001B[0;34m\u001B[0m\u001B[0;34m\u001B[0m\u001B[0;34m\u001B[0m\u001B[0m\n\u001B[0;32m---> 41\u001B[0;31m             \u001B[0mprediction\u001B[0m \u001B[0;34m=\u001B[0m \u001B[0mmodel\u001B[0m\u001B[0;34m(\u001B[0m\u001B[0mbatch_x\u001B[0m\u001B[0;34m)\u001B[0m\u001B[0;34m\u001B[0m\u001B[0;34m\u001B[0m\u001B[0m\n\u001B[0m\u001B[1;32m     42\u001B[0m             \u001B[0mloss\u001B[0m \u001B[0;34m=\u001B[0m \u001B[0mcriterion\u001B[0m\u001B[0;34m(\u001B[0m\u001B[0mprediction\u001B[0m\u001B[0;34m,\u001B[0m \u001B[0mbatch_y\u001B[0m\u001B[0;34m)\u001B[0m\u001B[0;34m\u001B[0m\u001B[0;34m\u001B[0m\u001B[0m\n\u001B[1;32m     43\u001B[0m \u001B[0;34m\u001B[0m\u001B[0m\n",
      "\u001B[0;32m~/opt/anaconda3/lib/python3.8/site-packages/torch/nn/modules/module.py\u001B[0m in \u001B[0;36m_call_impl\u001B[0;34m(self, *input, **kwargs)\u001B[0m\n\u001B[1;32m   1100\u001B[0m         if not (self._backward_hooks or self._forward_hooks or self._forward_pre_hooks or _global_backward_hooks\n\u001B[1;32m   1101\u001B[0m                 or _global_forward_hooks or _global_forward_pre_hooks):\n\u001B[0;32m-> 1102\u001B[0;31m             \u001B[0;32mreturn\u001B[0m \u001B[0mforward_call\u001B[0m\u001B[0;34m(\u001B[0m\u001B[0;34m*\u001B[0m\u001B[0minput\u001B[0m\u001B[0;34m,\u001B[0m \u001B[0;34m**\u001B[0m\u001B[0mkwargs\u001B[0m\u001B[0;34m)\u001B[0m\u001B[0;34m\u001B[0m\u001B[0;34m\u001B[0m\u001B[0m\n\u001B[0m\u001B[1;32m   1103\u001B[0m         \u001B[0;31m# Do not call functions when jit is used\u001B[0m\u001B[0;34m\u001B[0m\u001B[0;34m\u001B[0m\u001B[0;34m\u001B[0m\u001B[0m\n\u001B[1;32m   1104\u001B[0m         \u001B[0mfull_backward_hooks\u001B[0m\u001B[0;34m,\u001B[0m \u001B[0mnon_full_backward_hooks\u001B[0m \u001B[0;34m=\u001B[0m \u001B[0;34m[\u001B[0m\u001B[0;34m]\u001B[0m\u001B[0;34m,\u001B[0m \u001B[0;34m[\u001B[0m\u001B[0;34m]\u001B[0m\u001B[0;34m\u001B[0m\u001B[0;34m\u001B[0m\u001B[0m\n",
      "\u001B[0;32m~/Documents/EPFL/MA1/ML/ml-project-2-teamphilippe2/models/NNET.py\u001B[0m in \u001B[0;36mforward\u001B[0;34m(self, x)\u001B[0m\n\u001B[1;32m     77\u001B[0m         \u001B[0mprint\u001B[0m\u001B[0;34m(\u001B[0m\u001B[0;34mf\"Conv_10: {conv_10.shape}\"\u001B[0m\u001B[0;34m)\u001B[0m\u001B[0;34m\u001B[0m\u001B[0;34m\u001B[0m\u001B[0m\n\u001B[1;32m     78\u001B[0m \u001B[0;34m\u001B[0m\u001B[0m\n\u001B[0;32m---> 79\u001B[0;31m         \u001B[0mfirst_merge\u001B[0m \u001B[0;34m=\u001B[0m \u001B[0mtorch\u001B[0m\u001B[0;34m.\u001B[0m\u001B[0mcat\u001B[0m\u001B[0;34m(\u001B[0m\u001B[0;34m(\u001B[0m\u001B[0mdeconv_1\u001B[0m\u001B[0;34m,\u001B[0m \u001B[0mconv_10\u001B[0m\u001B[0;34m)\u001B[0m\u001B[0;34m,\u001B[0m \u001B[0;36m1\u001B[0m\u001B[0;34m)\u001B[0m\u001B[0;34m\u001B[0m\u001B[0;34m\u001B[0m\u001B[0m\n\u001B[0m\u001B[1;32m     80\u001B[0m         \u001B[0mafter_first_merge\u001B[0m \u001B[0;34m=\u001B[0m \u001B[0mself\u001B[0m\u001B[0;34m.\u001B[0m\u001B[0mconv_layer_merge_1\u001B[0m\u001B[0;34m(\u001B[0m\u001B[0mfirst_merge\u001B[0m\u001B[0;34m)\u001B[0m\u001B[0;34m\u001B[0m\u001B[0;34m\u001B[0m\u001B[0m\n\u001B[1;32m     81\u001B[0m         \u001B[0mprint\u001B[0m\u001B[0;34m(\u001B[0m\u001B[0;34mf\"Conv after deconv_1: {deconv_1.shape}\"\u001B[0m\u001B[0;34m)\u001B[0m\u001B[0;34m\u001B[0m\u001B[0;34m\u001B[0m\u001B[0m\n",
      "\u001B[0;31mRuntimeError\u001B[0m: Sizes of tensors must match except in dimension 1. Expected size 30 but got size 17 for tensor number 1 in the list."
     ]
    }
   ],
   "source": [
    "run_experiment(\"nnet\", \"cross-entropy\", \"sgd\",  image_dir,gt_dir)"
   ]
  },
  {
   "cell_type": "code",
   "execution_count": 1,
   "id": "96bd2947-dfcc-4b50-80f0-702b96450e80",
   "metadata": {},
   "outputs": [
    {
     "data": {
      "text/plain": "'1.10.0'"
     },
     "execution_count": 1,
     "metadata": {},
     "output_type": "execute_result"
    }
   ],
   "source": []
  },
  {
   "cell_type": "code",
   "execution_count": null,
   "outputs": [],
   "source": [],
   "metadata": {
    "collapsed": false,
    "pycharm": {
     "name": "#%%\n"
    }
   }
  }
 ],
 "metadata": {
  "kernelspec": {
   "display_name": "Python 3 (ipykernel)",
   "language": "python",
   "name": "python3"
  },
  "language_info": {
   "codemirror_mode": {
    "name": "ipython",
    "version": 3
   },
   "file_extension": ".py",
   "mimetype": "text/x-python",
   "name": "python",
   "nbconvert_exporter": "python",
   "pygments_lexer": "ipython3",
   "version": "3.8.12"
  }
 },
 "nbformat": 4,
 "nbformat_minor": 5
}