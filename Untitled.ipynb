{
 "cells": [
  {
   "cell_type": "code",
   "execution_count": 7,
   "id": "52516132-9028-492f-8164-364bdbf60926",
   "metadata": {},
   "outputs": [
    {
     "name": "stdout",
     "output_type": "stream",
     "text": [
      "The autoreload extension is already loaded. To reload it, use:\n",
      "  %reload_ext autoreload\n"
     ]
    }
   ],
   "source": [
    "import numpy as np\n",
    "%matplotlib inline\n",
    "%load_ext autoreload\n",
    "%autoreload 2\n",
    "\n",
    "from helper.neural_net import *\n",
    "from helper.const import *"
   ]
  },
  {
   "cell_type": "code",
   "execution_count": 11,
   "id": "3fa58fa2-018d-4bb3-aa36-587e6231dc32",
   "metadata": {},
   "outputs": [],
   "source": [
    "import torch\n",
    "torch.cuda.empty_cache()"
   ]
  },
  {
   "cell_type": "code",
   "execution_count": 12,
   "id": "9ad8b9cc-5e1f-4e06-a2a4-f110b99cc2dc",
   "metadata": {
    "pycharm": {
     "is_executing": true
    }
   },
   "outputs": [
    {
     "name": "stdout",
     "output_type": "stream",
     "text": [
      "Loaded 100 images\n",
      "All images have the same size !\n",
      "Image size = 400, 400\n",
      "50\n",
      "Starting training\n",
      "torch.Size([50, 3, 400, 400])\n",
      "torch.Size([50, 1, 400, 400])\n",
      "torch.Size([50, 3, 400, 400])\n",
      "torch.Size([50, 1, 400, 400])\n",
      "torch.Size([50, 3, 400, 400])\n",
      "torch.Size([50, 1, 400, 400])\n",
      "torch.Size([50, 3, 400, 400])\n",
      "torch.Size([50, 1, 400, 400])\n",
      "torch.Size([50, 3, 400, 400])\n",
      "torch.Size([50, 1, 400, 400])\n",
      "torch.Size([30, 3, 400, 400])\n",
      "torch.Size([30, 1, 400, 400])\n",
      "Epoch 0 | Test accuracy: 0.77763\n",
      "torch.Size([50, 3, 400, 400])\n",
      "torch.Size([50, 1, 400, 400])\n",
      "torch.Size([50, 3, 400, 400])\n",
      "torch.Size([50, 1, 400, 400])\n",
      "torch.Size([50, 3, 400, 400])\n",
      "torch.Size([50, 1, 400, 400])\n",
      "torch.Size([50, 3, 400, 400])\n",
      "torch.Size([50, 1, 400, 400])\n",
      "torch.Size([50, 3, 400, 400])\n",
      "torch.Size([50, 1, 400, 400])\n",
      "torch.Size([30, 3, 400, 400])\n",
      "torch.Size([30, 1, 400, 400])\n",
      "Epoch 1 | Test accuracy: 0.77749\n",
      "torch.Size([50, 3, 400, 400])\n",
      "torch.Size([50, 1, 400, 400])\n",
      "torch.Size([50, 3, 400, 400])\n",
      "torch.Size([50, 1, 400, 400])\n",
      "torch.Size([50, 3, 400, 400])\n",
      "torch.Size([50, 1, 400, 400])\n",
      "torch.Size([50, 3, 400, 400])\n",
      "torch.Size([50, 1, 400, 400])\n",
      "torch.Size([50, 3, 400, 400])\n",
      "torch.Size([50, 1, 400, 400])\n",
      "torch.Size([30, 3, 400, 400])\n",
      "torch.Size([30, 1, 400, 400])\n",
      "Epoch 2 | Test accuracy: 0.77454\n",
      "torch.Size([50, 3, 400, 400])\n",
      "torch.Size([50, 1, 400, 400])\n",
      "torch.Size([50, 3, 400, 400])\n",
      "torch.Size([50, 1, 400, 400])\n",
      "torch.Size([50, 3, 400, 400])\n",
      "torch.Size([50, 1, 400, 400])\n",
      "torch.Size([50, 3, 400, 400])\n",
      "torch.Size([50, 1, 400, 400])\n",
      "torch.Size([50, 3, 400, 400])\n",
      "torch.Size([50, 1, 400, 400])\n",
      "torch.Size([30, 3, 400, 400])\n",
      "torch.Size([30, 1, 400, 400])\n",
      "Epoch 3 | Test accuracy: 0.77428\n",
      "torch.Size([50, 3, 400, 400])\n",
      "torch.Size([50, 1, 400, 400])\n",
      "torch.Size([50, 3, 400, 400])\n",
      "torch.Size([50, 1, 400, 400])\n",
      "torch.Size([50, 3, 400, 400])\n",
      "torch.Size([50, 1, 400, 400])\n",
      "torch.Size([50, 3, 400, 400])\n",
      "torch.Size([50, 1, 400, 400])\n",
      "torch.Size([50, 3, 400, 400])\n",
      "torch.Size([50, 1, 400, 400])\n",
      "torch.Size([30, 3, 400, 400])\n",
      "torch.Size([30, 1, 400, 400])\n",
      "Epoch 4 | Test accuracy: 0.77937\n",
      "torch.Size([50, 3, 400, 400])\n",
      "torch.Size([50, 1, 400, 400])\n",
      "torch.Size([50, 3, 400, 400])\n",
      "torch.Size([50, 1, 400, 400])\n",
      "torch.Size([50, 3, 400, 400])\n",
      "torch.Size([50, 1, 400, 400])\n",
      "torch.Size([50, 3, 400, 400])\n",
      "torch.Size([50, 1, 400, 400])\n",
      "torch.Size([50, 3, 400, 400])\n",
      "torch.Size([50, 1, 400, 400])\n",
      "torch.Size([30, 3, 400, 400])\n",
      "torch.Size([30, 1, 400, 400])\n",
      "Epoch 5 | Test accuracy: 0.77554\n",
      "torch.Size([50, 3, 400, 400])\n",
      "torch.Size([50, 1, 400, 400])\n",
      "torch.Size([50, 3, 400, 400])\n",
      "torch.Size([50, 1, 400, 400])\n",
      "torch.Size([50, 3, 400, 400])\n",
      "torch.Size([50, 1, 400, 400])\n",
      "torch.Size([50, 3, 400, 400])\n",
      "torch.Size([50, 1, 400, 400])\n",
      "torch.Size([50, 3, 400, 400])\n",
      "torch.Size([50, 1, 400, 400])\n",
      "torch.Size([30, 3, 400, 400])\n",
      "torch.Size([30, 1, 400, 400])\n",
      "Epoch 6 | Test accuracy: 0.77871\n",
      "torch.Size([50, 3, 400, 400])\n",
      "torch.Size([50, 1, 400, 400])\n",
      "torch.Size([50, 3, 400, 400])\n",
      "torch.Size([50, 1, 400, 400])\n",
      "torch.Size([50, 3, 400, 400])\n",
      "torch.Size([50, 1, 400, 400])\n",
      "torch.Size([50, 3, 400, 400])\n",
      "torch.Size([50, 1, 400, 400])\n",
      "torch.Size([50, 3, 400, 400])\n",
      "torch.Size([50, 1, 400, 400])\n",
      "torch.Size([30, 3, 400, 400])\n",
      "torch.Size([30, 1, 400, 400])\n",
      "Epoch 7 | Test accuracy: 0.77598\n",
      "torch.Size([50, 3, 400, 400])\n",
      "torch.Size([50, 1, 400, 400])\n",
      "torch.Size([50, 3, 400, 400])\n",
      "torch.Size([50, 1, 400, 400])\n",
      "torch.Size([50, 3, 400, 400])\n",
      "torch.Size([50, 1, 400, 400])\n",
      "torch.Size([50, 3, 400, 400])\n",
      "torch.Size([50, 1, 400, 400])\n",
      "torch.Size([50, 3, 400, 400])\n",
      "torch.Size([50, 1, 400, 400])\n",
      "torch.Size([30, 3, 400, 400])\n",
      "torch.Size([30, 1, 400, 400])\n",
      "Epoch 8 | Test accuracy: 0.77789\n",
      "torch.Size([50, 3, 400, 400])\n",
      "torch.Size([50, 1, 400, 400])\n",
      "torch.Size([50, 3, 400, 400])\n",
      "torch.Size([50, 1, 400, 400])\n",
      "torch.Size([50, 3, 400, 400])\n",
      "torch.Size([50, 1, 400, 400])\n",
      "torch.Size([50, 3, 400, 400])\n",
      "torch.Size([50, 1, 400, 400])\n",
      "torch.Size([50, 3, 400, 400])\n",
      "torch.Size([50, 1, 400, 400])\n",
      "torch.Size([30, 3, 400, 400])\n",
      "torch.Size([30, 1, 400, 400])\n",
      "Epoch 9 | Test accuracy: 0.77543\n",
      "End of training\n"
     ]
    },
    {
     "ename": "FileNotFoundError",
     "evalue": "[Errno 2] No such file or directory: 'output/weights/nnet/2021-12-04_17-18-13.pth'",
     "output_type": "error",
     "traceback": [
      "\u001b[1;31m---------------------------------------------------------------------------\u001b[0m",
      "\u001b[1;31mFileNotFoundError\u001b[0m                         Traceback (most recent call last)",
      "\u001b[1;32m~\\AppData\\Local\\Temp/ipykernel_21412/76750203.py\u001b[0m in \u001b[0;36m<module>\u001b[1;34m\u001b[0m\n\u001b[1;32m----> 1\u001b[1;33m \u001b[0mrun_experiment\u001b[0m\u001b[1;33m(\u001b[0m\u001b[1;34m\"nnet\"\u001b[0m\u001b[1;33m,\u001b[0m \u001b[1;34m\"bce\"\u001b[0m\u001b[1;33m,\u001b[0m \u001b[1;34m\"sgd\"\u001b[0m\u001b[1;33m,\u001b[0m  \u001b[0mimage_dir\u001b[0m\u001b[1;33m,\u001b[0m \u001b[0mgt_dir\u001b[0m\u001b[1;33m,\u001b[0m \u001b[0mbatch_size\u001b[0m\u001b[1;33m=\u001b[0m\u001b[1;36m50\u001b[0m\u001b[1;33m)\u001b[0m\u001b[1;33m\u001b[0m\u001b[1;33m\u001b[0m\u001b[0m\n\u001b[0m",
      "\u001b[1;32mE:\\UserFiles\\EPFL\\MA1\\ml-project-2-teamphilippe2\\helper\\neural_net.py\u001b[0m in \u001b[0;36mrun_experiment\u001b[1;34m(model_str, loss_fct_str, optimizer_str, image_dir, gt_dir, num_epochs, learning_rate, momentum, batch_size, save_weights, ratio_test, seed)\u001b[0m\n\u001b[0;32m    194\u001b[0m     \u001b[1;32mif\u001b[0m \u001b[0msave_weights\u001b[0m\u001b[1;33m:\u001b[0m\u001b[1;33m\u001b[0m\u001b[1;33m\u001b[0m\u001b[0m\n\u001b[0;32m    195\u001b[0m         \u001b[0mnow\u001b[0m \u001b[1;33m=\u001b[0m \u001b[0mdatetime\u001b[0m\u001b[1;33m.\u001b[0m\u001b[0mnow\u001b[0m\u001b[1;33m(\u001b[0m\u001b[1;33m)\u001b[0m\u001b[1;33m\u001b[0m\u001b[1;33m\u001b[0m\u001b[0m\n\u001b[1;32m--> 196\u001b[1;33m         torch.save(model.state_dict(),\n\u001b[0m\u001b[0;32m    197\u001b[0m                    weights_folder + model_str + \"/\" + now.strftime(\"%Y-%m-%d_%H-%M-%S\") + ext_weight_model)\n\u001b[0;32m    198\u001b[0m \u001b[1;33m\u001b[0m\u001b[0m\n",
      "\u001b[1;32mE:\\Programmes\\Conda\\lib\\site-packages\\torch\\serialization.py\u001b[0m in \u001b[0;36msave\u001b[1;34m(obj, f, pickle_module, pickle_protocol, _use_new_zipfile_serialization)\u001b[0m\n\u001b[0;32m    374\u001b[0m     \u001b[0m_check_dill_version\u001b[0m\u001b[1;33m(\u001b[0m\u001b[0mpickle_module\u001b[0m\u001b[1;33m)\u001b[0m\u001b[1;33m\u001b[0m\u001b[1;33m\u001b[0m\u001b[0m\n\u001b[0;32m    375\u001b[0m \u001b[1;33m\u001b[0m\u001b[0m\n\u001b[1;32m--> 376\u001b[1;33m     \u001b[1;32mwith\u001b[0m \u001b[0m_open_file_like\u001b[0m\u001b[1;33m(\u001b[0m\u001b[0mf\u001b[0m\u001b[1;33m,\u001b[0m \u001b[1;34m'wb'\u001b[0m\u001b[1;33m)\u001b[0m \u001b[1;32mas\u001b[0m \u001b[0mopened_file\u001b[0m\u001b[1;33m:\u001b[0m\u001b[1;33m\u001b[0m\u001b[1;33m\u001b[0m\u001b[0m\n\u001b[0m\u001b[0;32m    377\u001b[0m         \u001b[1;32mif\u001b[0m \u001b[0m_use_new_zipfile_serialization\u001b[0m\u001b[1;33m:\u001b[0m\u001b[1;33m\u001b[0m\u001b[1;33m\u001b[0m\u001b[0m\n\u001b[0;32m    378\u001b[0m             \u001b[1;32mwith\u001b[0m \u001b[0m_open_zipfile_writer\u001b[0m\u001b[1;33m(\u001b[0m\u001b[0mopened_file\u001b[0m\u001b[1;33m)\u001b[0m \u001b[1;32mas\u001b[0m \u001b[0mopened_zipfile\u001b[0m\u001b[1;33m:\u001b[0m\u001b[1;33m\u001b[0m\u001b[1;33m\u001b[0m\u001b[0m\n",
      "\u001b[1;32mE:\\Programmes\\Conda\\lib\\site-packages\\torch\\serialization.py\u001b[0m in \u001b[0;36m_open_file_like\u001b[1;34m(name_or_buffer, mode)\u001b[0m\n\u001b[0;32m    228\u001b[0m \u001b[1;32mdef\u001b[0m \u001b[0m_open_file_like\u001b[0m\u001b[1;33m(\u001b[0m\u001b[0mname_or_buffer\u001b[0m\u001b[1;33m,\u001b[0m \u001b[0mmode\u001b[0m\u001b[1;33m)\u001b[0m\u001b[1;33m:\u001b[0m\u001b[1;33m\u001b[0m\u001b[1;33m\u001b[0m\u001b[0m\n\u001b[0;32m    229\u001b[0m     \u001b[1;32mif\u001b[0m \u001b[0m_is_path\u001b[0m\u001b[1;33m(\u001b[0m\u001b[0mname_or_buffer\u001b[0m\u001b[1;33m)\u001b[0m\u001b[1;33m:\u001b[0m\u001b[1;33m\u001b[0m\u001b[1;33m\u001b[0m\u001b[0m\n\u001b[1;32m--> 230\u001b[1;33m         \u001b[1;32mreturn\u001b[0m \u001b[0m_open_file\u001b[0m\u001b[1;33m(\u001b[0m\u001b[0mname_or_buffer\u001b[0m\u001b[1;33m,\u001b[0m \u001b[0mmode\u001b[0m\u001b[1;33m)\u001b[0m\u001b[1;33m\u001b[0m\u001b[1;33m\u001b[0m\u001b[0m\n\u001b[0m\u001b[0;32m    231\u001b[0m     \u001b[1;32melse\u001b[0m\u001b[1;33m:\u001b[0m\u001b[1;33m\u001b[0m\u001b[1;33m\u001b[0m\u001b[0m\n\u001b[0;32m    232\u001b[0m         \u001b[1;32mif\u001b[0m \u001b[1;34m'w'\u001b[0m \u001b[1;32min\u001b[0m \u001b[0mmode\u001b[0m\u001b[1;33m:\u001b[0m\u001b[1;33m\u001b[0m\u001b[1;33m\u001b[0m\u001b[0m\n",
      "\u001b[1;32mE:\\Programmes\\Conda\\lib\\site-packages\\torch\\serialization.py\u001b[0m in \u001b[0;36m__init__\u001b[1;34m(self, name, mode)\u001b[0m\n\u001b[0;32m    209\u001b[0m \u001b[1;32mclass\u001b[0m \u001b[0m_open_file\u001b[0m\u001b[1;33m(\u001b[0m\u001b[0m_opener\u001b[0m\u001b[1;33m)\u001b[0m\u001b[1;33m:\u001b[0m\u001b[1;33m\u001b[0m\u001b[1;33m\u001b[0m\u001b[0m\n\u001b[0;32m    210\u001b[0m     \u001b[1;32mdef\u001b[0m \u001b[0m__init__\u001b[0m\u001b[1;33m(\u001b[0m\u001b[0mself\u001b[0m\u001b[1;33m,\u001b[0m \u001b[0mname\u001b[0m\u001b[1;33m,\u001b[0m \u001b[0mmode\u001b[0m\u001b[1;33m)\u001b[0m\u001b[1;33m:\u001b[0m\u001b[1;33m\u001b[0m\u001b[1;33m\u001b[0m\u001b[0m\n\u001b[1;32m--> 211\u001b[1;33m         \u001b[0msuper\u001b[0m\u001b[1;33m(\u001b[0m\u001b[0m_open_file\u001b[0m\u001b[1;33m,\u001b[0m \u001b[0mself\u001b[0m\u001b[1;33m)\u001b[0m\u001b[1;33m.\u001b[0m\u001b[0m__init__\u001b[0m\u001b[1;33m(\u001b[0m\u001b[0mopen\u001b[0m\u001b[1;33m(\u001b[0m\u001b[0mname\u001b[0m\u001b[1;33m,\u001b[0m \u001b[0mmode\u001b[0m\u001b[1;33m)\u001b[0m\u001b[1;33m)\u001b[0m\u001b[1;33m\u001b[0m\u001b[1;33m\u001b[0m\u001b[0m\n\u001b[0m\u001b[0;32m    212\u001b[0m \u001b[1;33m\u001b[0m\u001b[0m\n\u001b[0;32m    213\u001b[0m     \u001b[1;32mdef\u001b[0m \u001b[0m__exit__\u001b[0m\u001b[1;33m(\u001b[0m\u001b[0mself\u001b[0m\u001b[1;33m,\u001b[0m \u001b[1;33m*\u001b[0m\u001b[0margs\u001b[0m\u001b[1;33m)\u001b[0m\u001b[1;33m:\u001b[0m\u001b[1;33m\u001b[0m\u001b[1;33m\u001b[0m\u001b[0m\n",
      "\u001b[1;31mFileNotFoundError\u001b[0m: [Errno 2] No such file or directory: 'output/weights/nnet/2021-12-04_17-18-13.pth'"
     ]
    }
   ],
   "source": [
    "run_experiment(\"nnet\", \"bce\", \"sgd\",  image_dir, gt_dir, batch_size=50)"
   ]
  },
  {
   "cell_type": "code",
   "execution_count": null,
   "id": "be95efe5",
   "metadata": {
    "collapsed": false,
    "jupyter": {
     "outputs_hidden": false
    },
    "pycharm": {
     "name": "#%%\n"
    }
   },
   "outputs": [],
   "source": []
  },
  {
   "cell_type": "code",
   "execution_count": null,
   "id": "70915038",
   "metadata": {
    "collapsed": false,
    "jupyter": {
     "outputs_hidden": false
    },
    "pycharm": {
     "name": "#%%\n"
    }
   },
   "outputs": [],
   "source": []
  }
 ],
 "metadata": {
  "kernelspec": {
   "display_name": "Python 3 (ipykernel)",
   "language": "python",
   "name": "python3"
  },
  "language_info": {
   "codemirror_mode": {
    "name": "ipython",
    "version": 3
   },
   "file_extension": ".py",
   "mimetype": "text/x-python",
   "name": "python",
   "nbconvert_exporter": "python",
   "pygments_lexer": "ipython3",
   "version": "3.8.12"
  }
 },
 "nbformat": 4,
 "nbformat_minor": 5
}
